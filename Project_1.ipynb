{
  "nbformat": 4,
  "nbformat_minor": 0,
  "metadata": {
    "colab": {
      "provenance": [],
      "authorship_tag": "ABX9TyPSjs9aAUuB6RWA4kLEORx2",
      "include_colab_link": true
    },
    "kernelspec": {
      "name": "python3",
      "display_name": "Python 3"
    },
    "language_info": {
      "name": "python"
    }
  },
  "cells": [
    {
      "cell_type": "markdown",
      "metadata": {
        "id": "view-in-github",
        "colab_type": "text"
      },
      "source": [
        "<a href=\"https://colab.research.google.com/github/atmendes/Python-For-Data-Analytics-Class/blob/main/Project_1.ipynb\" target=\"_parent\"><img src=\"https://colab.research.google.com/assets/colab-badge.svg\" alt=\"Open In Colab\"/></a>"
      ]
    },
    {
      "cell_type": "code",
      "source": [
        "import pandas as pd"
      ],
      "metadata": {
        "id": "X7XM5ywBJZnZ"
      },
      "execution_count": null,
      "outputs": []
    },
    {
      "cell_type": "code",
      "execution_count": null,
      "metadata": {
        "id": "r_aoKgUtJT7f"
      },
      "outputs": [],
      "source": [
        "df = pd.read_csv('https://raw.githubusercontent.com/CunyLaguardiaDataAnalytics/datasets/master/2014-15_To_2016-17_School-_Level_NYC_Regents_Report_For_All_Variables.csv')"
      ]
    },
    {
      "cell_type": "code",
      "source": [
        "#Check the first 20 rows"
      ],
      "metadata": {
        "id": "QX-r9sQ-ecUr"
      },
      "execution_count": null,
      "outputs": []
    },
    {
      "cell_type": "code",
      "source": [
        "df.head(20)"
      ],
      "metadata": {
        "colab": {
          "base_uri": "https://localhost:8080/",
          "height": 1000
        },
        "id": "vcYZ9KbQJpaU",
        "outputId": "2a0bf5c2-ba8f-4ba3-f56a-1c23508ca831"
      },
      "execution_count": null,
      "outputs": [
        {
          "output_type": "execute_result",
          "data": {
            "text/plain": [
              "   School DBN                     School Name School Level  \\\n",
              "0      01M034  P.S. 034 Franklin D. Roosevelt          K-8   \n",
              "1      01M034  P.S. 034 Franklin D. Roosevelt          K-8   \n",
              "2      01M034  P.S. 034 Franklin D. Roosevelt          K-8   \n",
              "3      01M140          P.S. 140 Nathan Straus          K-8   \n",
              "4      01M140          P.S. 140 Nathan Straus          K-8   \n",
              "5      01M140          P.S. 140 Nathan Straus          K-8   \n",
              "6      01M140          P.S. 140 Nathan Straus          K-8   \n",
              "7      01M140          P.S. 140 Nathan Straus          K-8   \n",
              "8      01M184            P.S. 184m Shuang Wen          K-8   \n",
              "9      01M184            P.S. 184m Shuang Wen          K-8   \n",
              "10     01M184            P.S. 184m Shuang Wen          K-8   \n",
              "11     01M184            P.S. 184m Shuang Wen          K-8   \n",
              "12     01M188      P.S. 188 The Island School          K-8   \n",
              "13     01M188      P.S. 188 The Island School          K-8   \n",
              "14     01M188      P.S. 188 The Island School          K-8   \n",
              "15     01M188      P.S. 188 The Island School          K-8   \n",
              "16     01M188      P.S. 188 The Island School          K-8   \n",
              "17     01M188      P.S. 188 The Island School          K-8   \n",
              "18     01M292      Orchard Collegiate Academy  High school   \n",
              "19     01M292      Orchard Collegiate Academy  High school   \n",
              "\n",
              "             Regents Exam  Year  Total Tested Mean Score  \\\n",
              "0     Common Core Algebra  2017             4          s   \n",
              "1      Living Environment  2015            16       77.9   \n",
              "2      Living Environment  2016             9         74   \n",
              "3     Common Core Algebra  2016             3          s   \n",
              "4     Common Core Algebra  2017             2          s   \n",
              "5      Living Environment  2015             9       67.4   \n",
              "6      Living Environment  2016            15       72.6   \n",
              "7      Living Environment  2017             9       64.4   \n",
              "8     Common Core Algebra  2015            49       78.4   \n",
              "9     Common Core Algebra  2016            51         79   \n",
              "10    Common Core Algebra  2017            51       84.8   \n",
              "11     Living Environment  2017            55       83.9   \n",
              "12    Common Core Algebra  2015            23       62.9   \n",
              "13    Common Core Algebra  2016            22         69   \n",
              "14    Common Core Algebra  2017            20       67.4   \n",
              "15    Common Core English  2016             1          s   \n",
              "16     Living Environment  2016            17       62.1   \n",
              "17     Living Environment  2017             3          s   \n",
              "18  Algebra2/Trigonometry  2015             5          s   \n",
              "19  Algebra2/Trigonometry  2016             5          s   \n",
              "\n",
              "   Number Scoring Below 65 Percent Scoring Below 65  \\\n",
              "0                        s                        s   \n",
              "1                        1                      6.3   \n",
              "2                        1                     11.1   \n",
              "3                        s                        s   \n",
              "4                        s                        s   \n",
              "5                        3                     33.3   \n",
              "6                        2                     13.3   \n",
              "7                        5                     55.6   \n",
              "8                        1                        2   \n",
              "9                        9                     17.6   \n",
              "10                       0                        0   \n",
              "11                       1                      1.8   \n",
              "12                      14                     60.9   \n",
              "13                       6                     27.3   \n",
              "14                       7                       35   \n",
              "15                       s                        s   \n",
              "16                       9                     52.9   \n",
              "17                       s                        s   \n",
              "18                       s                        s   \n",
              "19                       s                        s   \n",
              "\n",
              "   Number Scoring 65 or Above Percent Scoring 65 or Above  \\\n",
              "0                           s                           s   \n",
              "1                          15                        93.8   \n",
              "2                           8                        88.9   \n",
              "3                           s                           s   \n",
              "4                           s                           s   \n",
              "5                           6                        66.7   \n",
              "6                          13                        86.7   \n",
              "7                           4                        44.4   \n",
              "8                          48                          98   \n",
              "9                          42                        82.4   \n",
              "10                         51                         100   \n",
              "11                         54                        98.2   \n",
              "12                          9                        39.1   \n",
              "13                         16                        72.7   \n",
              "14                         13                          65   \n",
              "15                          s                           s   \n",
              "16                          8                        47.1   \n",
              "17                          s                           s   \n",
              "18                          s                           s   \n",
              "19                          s                           s   \n",
              "\n",
              "   Number Scoring 80 or Above Percent Scoring 80 or Above Number Scoring CR  \\\n",
              "0                           s                           s                na   \n",
              "1                           7                        43.8                na   \n",
              "2                           2                        22.2                na   \n",
              "3                           s                           s                na   \n",
              "4                           s                           s                na   \n",
              "5                           0                           0                na   \n",
              "6                           5                        33.3                na   \n",
              "7                           1                        11.1                na   \n",
              "8                          23                        46.9                48   \n",
              "9                          33                        64.7                40   \n",
              "10                         44                        86.3                50   \n",
              "11                         43                        78.2                na   \n",
              "12                          0                           0                 2   \n",
              "13                          2                         9.1                15   \n",
              "14                          1                           5                10   \n",
              "15                          s                           s                na   \n",
              "16                          0                           0                na   \n",
              "17                          s                           s                na   \n",
              "18                          s                           s                na   \n",
              "19                          s                           s                na   \n",
              "\n",
              "   Percent Scoring CR  \n",
              "0                  na  \n",
              "1                  na  \n",
              "2                  na  \n",
              "3                  na  \n",
              "4                  na  \n",
              "5                  na  \n",
              "6                  na  \n",
              "7                  na  \n",
              "8                  98  \n",
              "9                78.4  \n",
              "10                 98  \n",
              "11                 na  \n",
              "12                8.7  \n",
              "13               68.2  \n",
              "14                 50  \n",
              "15                 na  \n",
              "16                 na  \n",
              "17                 na  \n",
              "18                 na  \n",
              "19                 na  "
            ],
            "text/html": [
              "\n",
              "  <div id=\"df-33f44145-c864-44e3-a6b3-76f6cca9933e\">\n",
              "    <div class=\"colab-df-container\">\n",
              "      <div>\n",
              "<style scoped>\n",
              "    .dataframe tbody tr th:only-of-type {\n",
              "        vertical-align: middle;\n",
              "    }\n",
              "\n",
              "    .dataframe tbody tr th {\n",
              "        vertical-align: top;\n",
              "    }\n",
              "\n",
              "    .dataframe thead th {\n",
              "        text-align: right;\n",
              "    }\n",
              "</style>\n",
              "<table border=\"1\" class=\"dataframe\">\n",
              "  <thead>\n",
              "    <tr style=\"text-align: right;\">\n",
              "      <th></th>\n",
              "      <th>School DBN</th>\n",
              "      <th>School Name</th>\n",
              "      <th>School Level</th>\n",
              "      <th>Regents Exam</th>\n",
              "      <th>Year</th>\n",
              "      <th>Total Tested</th>\n",
              "      <th>Mean Score</th>\n",
              "      <th>Number Scoring Below 65</th>\n",
              "      <th>Percent Scoring Below 65</th>\n",
              "      <th>Number Scoring 65 or Above</th>\n",
              "      <th>Percent Scoring 65 or Above</th>\n",
              "      <th>Number Scoring 80 or Above</th>\n",
              "      <th>Percent Scoring 80 or Above</th>\n",
              "      <th>Number Scoring CR</th>\n",
              "      <th>Percent Scoring CR</th>\n",
              "    </tr>\n",
              "  </thead>\n",
              "  <tbody>\n",
              "    <tr>\n",
              "      <th>0</th>\n",
              "      <td>01M034</td>\n",
              "      <td>P.S. 034 Franklin D. Roosevelt</td>\n",
              "      <td>K-8</td>\n",
              "      <td>Common Core Algebra</td>\n",
              "      <td>2017</td>\n",
              "      <td>4</td>\n",
              "      <td>s</td>\n",
              "      <td>s</td>\n",
              "      <td>s</td>\n",
              "      <td>s</td>\n",
              "      <td>s</td>\n",
              "      <td>s</td>\n",
              "      <td>s</td>\n",
              "      <td>na</td>\n",
              "      <td>na</td>\n",
              "    </tr>\n",
              "    <tr>\n",
              "      <th>1</th>\n",
              "      <td>01M034</td>\n",
              "      <td>P.S. 034 Franklin D. Roosevelt</td>\n",
              "      <td>K-8</td>\n",
              "      <td>Living Environment</td>\n",
              "      <td>2015</td>\n",
              "      <td>16</td>\n",
              "      <td>77.9</td>\n",
              "      <td>1</td>\n",
              "      <td>6.3</td>\n",
              "      <td>15</td>\n",
              "      <td>93.8</td>\n",
              "      <td>7</td>\n",
              "      <td>43.8</td>\n",
              "      <td>na</td>\n",
              "      <td>na</td>\n",
              "    </tr>\n",
              "    <tr>\n",
              "      <th>2</th>\n",
              "      <td>01M034</td>\n",
              "      <td>P.S. 034 Franklin D. Roosevelt</td>\n",
              "      <td>K-8</td>\n",
              "      <td>Living Environment</td>\n",
              "      <td>2016</td>\n",
              "      <td>9</td>\n",
              "      <td>74</td>\n",
              "      <td>1</td>\n",
              "      <td>11.1</td>\n",
              "      <td>8</td>\n",
              "      <td>88.9</td>\n",
              "      <td>2</td>\n",
              "      <td>22.2</td>\n",
              "      <td>na</td>\n",
              "      <td>na</td>\n",
              "    </tr>\n",
              "    <tr>\n",
              "      <th>3</th>\n",
              "      <td>01M140</td>\n",
              "      <td>P.S. 140 Nathan Straus</td>\n",
              "      <td>K-8</td>\n",
              "      <td>Common Core Algebra</td>\n",
              "      <td>2016</td>\n",
              "      <td>3</td>\n",
              "      <td>s</td>\n",
              "      <td>s</td>\n",
              "      <td>s</td>\n",
              "      <td>s</td>\n",
              "      <td>s</td>\n",
              "      <td>s</td>\n",
              "      <td>s</td>\n",
              "      <td>na</td>\n",
              "      <td>na</td>\n",
              "    </tr>\n",
              "    <tr>\n",
              "      <th>4</th>\n",
              "      <td>01M140</td>\n",
              "      <td>P.S. 140 Nathan Straus</td>\n",
              "      <td>K-8</td>\n",
              "      <td>Common Core Algebra</td>\n",
              "      <td>2017</td>\n",
              "      <td>2</td>\n",
              "      <td>s</td>\n",
              "      <td>s</td>\n",
              "      <td>s</td>\n",
              "      <td>s</td>\n",
              "      <td>s</td>\n",
              "      <td>s</td>\n",
              "      <td>s</td>\n",
              "      <td>na</td>\n",
              "      <td>na</td>\n",
              "    </tr>\n",
              "    <tr>\n",
              "      <th>5</th>\n",
              "      <td>01M140</td>\n",
              "      <td>P.S. 140 Nathan Straus</td>\n",
              "      <td>K-8</td>\n",
              "      <td>Living Environment</td>\n",
              "      <td>2015</td>\n",
              "      <td>9</td>\n",
              "      <td>67.4</td>\n",
              "      <td>3</td>\n",
              "      <td>33.3</td>\n",
              "      <td>6</td>\n",
              "      <td>66.7</td>\n",
              "      <td>0</td>\n",
              "      <td>0</td>\n",
              "      <td>na</td>\n",
              "      <td>na</td>\n",
              "    </tr>\n",
              "    <tr>\n",
              "      <th>6</th>\n",
              "      <td>01M140</td>\n",
              "      <td>P.S. 140 Nathan Straus</td>\n",
              "      <td>K-8</td>\n",
              "      <td>Living Environment</td>\n",
              "      <td>2016</td>\n",
              "      <td>15</td>\n",
              "      <td>72.6</td>\n",
              "      <td>2</td>\n",
              "      <td>13.3</td>\n",
              "      <td>13</td>\n",
              "      <td>86.7</td>\n",
              "      <td>5</td>\n",
              "      <td>33.3</td>\n",
              "      <td>na</td>\n",
              "      <td>na</td>\n",
              "    </tr>\n",
              "    <tr>\n",
              "      <th>7</th>\n",
              "      <td>01M140</td>\n",
              "      <td>P.S. 140 Nathan Straus</td>\n",
              "      <td>K-8</td>\n",
              "      <td>Living Environment</td>\n",
              "      <td>2017</td>\n",
              "      <td>9</td>\n",
              "      <td>64.4</td>\n",
              "      <td>5</td>\n",
              "      <td>55.6</td>\n",
              "      <td>4</td>\n",
              "      <td>44.4</td>\n",
              "      <td>1</td>\n",
              "      <td>11.1</td>\n",
              "      <td>na</td>\n",
              "      <td>na</td>\n",
              "    </tr>\n",
              "    <tr>\n",
              "      <th>8</th>\n",
              "      <td>01M184</td>\n",
              "      <td>P.S. 184m Shuang Wen</td>\n",
              "      <td>K-8</td>\n",
              "      <td>Common Core Algebra</td>\n",
              "      <td>2015</td>\n",
              "      <td>49</td>\n",
              "      <td>78.4</td>\n",
              "      <td>1</td>\n",
              "      <td>2</td>\n",
              "      <td>48</td>\n",
              "      <td>98</td>\n",
              "      <td>23</td>\n",
              "      <td>46.9</td>\n",
              "      <td>48</td>\n",
              "      <td>98</td>\n",
              "    </tr>\n",
              "    <tr>\n",
              "      <th>9</th>\n",
              "      <td>01M184</td>\n",
              "      <td>P.S. 184m Shuang Wen</td>\n",
              "      <td>K-8</td>\n",
              "      <td>Common Core Algebra</td>\n",
              "      <td>2016</td>\n",
              "      <td>51</td>\n",
              "      <td>79</td>\n",
              "      <td>9</td>\n",
              "      <td>17.6</td>\n",
              "      <td>42</td>\n",
              "      <td>82.4</td>\n",
              "      <td>33</td>\n",
              "      <td>64.7</td>\n",
              "      <td>40</td>\n",
              "      <td>78.4</td>\n",
              "    </tr>\n",
              "    <tr>\n",
              "      <th>10</th>\n",
              "      <td>01M184</td>\n",
              "      <td>P.S. 184m Shuang Wen</td>\n",
              "      <td>K-8</td>\n",
              "      <td>Common Core Algebra</td>\n",
              "      <td>2017</td>\n",
              "      <td>51</td>\n",
              "      <td>84.8</td>\n",
              "      <td>0</td>\n",
              "      <td>0</td>\n",
              "      <td>51</td>\n",
              "      <td>100</td>\n",
              "      <td>44</td>\n",
              "      <td>86.3</td>\n",
              "      <td>50</td>\n",
              "      <td>98</td>\n",
              "    </tr>\n",
              "    <tr>\n",
              "      <th>11</th>\n",
              "      <td>01M184</td>\n",
              "      <td>P.S. 184m Shuang Wen</td>\n",
              "      <td>K-8</td>\n",
              "      <td>Living Environment</td>\n",
              "      <td>2017</td>\n",
              "      <td>55</td>\n",
              "      <td>83.9</td>\n",
              "      <td>1</td>\n",
              "      <td>1.8</td>\n",
              "      <td>54</td>\n",
              "      <td>98.2</td>\n",
              "      <td>43</td>\n",
              "      <td>78.2</td>\n",
              "      <td>na</td>\n",
              "      <td>na</td>\n",
              "    </tr>\n",
              "    <tr>\n",
              "      <th>12</th>\n",
              "      <td>01M188</td>\n",
              "      <td>P.S. 188 The Island School</td>\n",
              "      <td>K-8</td>\n",
              "      <td>Common Core Algebra</td>\n",
              "      <td>2015</td>\n",
              "      <td>23</td>\n",
              "      <td>62.9</td>\n",
              "      <td>14</td>\n",
              "      <td>60.9</td>\n",
              "      <td>9</td>\n",
              "      <td>39.1</td>\n",
              "      <td>0</td>\n",
              "      <td>0</td>\n",
              "      <td>2</td>\n",
              "      <td>8.7</td>\n",
              "    </tr>\n",
              "    <tr>\n",
              "      <th>13</th>\n",
              "      <td>01M188</td>\n",
              "      <td>P.S. 188 The Island School</td>\n",
              "      <td>K-8</td>\n",
              "      <td>Common Core Algebra</td>\n",
              "      <td>2016</td>\n",
              "      <td>22</td>\n",
              "      <td>69</td>\n",
              "      <td>6</td>\n",
              "      <td>27.3</td>\n",
              "      <td>16</td>\n",
              "      <td>72.7</td>\n",
              "      <td>2</td>\n",
              "      <td>9.1</td>\n",
              "      <td>15</td>\n",
              "      <td>68.2</td>\n",
              "    </tr>\n",
              "    <tr>\n",
              "      <th>14</th>\n",
              "      <td>01M188</td>\n",
              "      <td>P.S. 188 The Island School</td>\n",
              "      <td>K-8</td>\n",
              "      <td>Common Core Algebra</td>\n",
              "      <td>2017</td>\n",
              "      <td>20</td>\n",
              "      <td>67.4</td>\n",
              "      <td>7</td>\n",
              "      <td>35</td>\n",
              "      <td>13</td>\n",
              "      <td>65</td>\n",
              "      <td>1</td>\n",
              "      <td>5</td>\n",
              "      <td>10</td>\n",
              "      <td>50</td>\n",
              "    </tr>\n",
              "    <tr>\n",
              "      <th>15</th>\n",
              "      <td>01M188</td>\n",
              "      <td>P.S. 188 The Island School</td>\n",
              "      <td>K-8</td>\n",
              "      <td>Common Core English</td>\n",
              "      <td>2016</td>\n",
              "      <td>1</td>\n",
              "      <td>s</td>\n",
              "      <td>s</td>\n",
              "      <td>s</td>\n",
              "      <td>s</td>\n",
              "      <td>s</td>\n",
              "      <td>s</td>\n",
              "      <td>s</td>\n",
              "      <td>na</td>\n",
              "      <td>na</td>\n",
              "    </tr>\n",
              "    <tr>\n",
              "      <th>16</th>\n",
              "      <td>01M188</td>\n",
              "      <td>P.S. 188 The Island School</td>\n",
              "      <td>K-8</td>\n",
              "      <td>Living Environment</td>\n",
              "      <td>2016</td>\n",
              "      <td>17</td>\n",
              "      <td>62.1</td>\n",
              "      <td>9</td>\n",
              "      <td>52.9</td>\n",
              "      <td>8</td>\n",
              "      <td>47.1</td>\n",
              "      <td>0</td>\n",
              "      <td>0</td>\n",
              "      <td>na</td>\n",
              "      <td>na</td>\n",
              "    </tr>\n",
              "    <tr>\n",
              "      <th>17</th>\n",
              "      <td>01M188</td>\n",
              "      <td>P.S. 188 The Island School</td>\n",
              "      <td>K-8</td>\n",
              "      <td>Living Environment</td>\n",
              "      <td>2017</td>\n",
              "      <td>3</td>\n",
              "      <td>s</td>\n",
              "      <td>s</td>\n",
              "      <td>s</td>\n",
              "      <td>s</td>\n",
              "      <td>s</td>\n",
              "      <td>s</td>\n",
              "      <td>s</td>\n",
              "      <td>na</td>\n",
              "      <td>na</td>\n",
              "    </tr>\n",
              "    <tr>\n",
              "      <th>18</th>\n",
              "      <td>01M292</td>\n",
              "      <td>Orchard Collegiate Academy</td>\n",
              "      <td>High school</td>\n",
              "      <td>Algebra2/Trigonometry</td>\n",
              "      <td>2015</td>\n",
              "      <td>5</td>\n",
              "      <td>s</td>\n",
              "      <td>s</td>\n",
              "      <td>s</td>\n",
              "      <td>s</td>\n",
              "      <td>s</td>\n",
              "      <td>s</td>\n",
              "      <td>s</td>\n",
              "      <td>na</td>\n",
              "      <td>na</td>\n",
              "    </tr>\n",
              "    <tr>\n",
              "      <th>19</th>\n",
              "      <td>01M292</td>\n",
              "      <td>Orchard Collegiate Academy</td>\n",
              "      <td>High school</td>\n",
              "      <td>Algebra2/Trigonometry</td>\n",
              "      <td>2016</td>\n",
              "      <td>5</td>\n",
              "      <td>s</td>\n",
              "      <td>s</td>\n",
              "      <td>s</td>\n",
              "      <td>s</td>\n",
              "      <td>s</td>\n",
              "      <td>s</td>\n",
              "      <td>s</td>\n",
              "      <td>na</td>\n",
              "      <td>na</td>\n",
              "    </tr>\n",
              "  </tbody>\n",
              "</table>\n",
              "</div>\n",
              "      <button class=\"colab-df-convert\" onclick=\"convertToInteractive('df-33f44145-c864-44e3-a6b3-76f6cca9933e')\"\n",
              "              title=\"Convert this dataframe to an interactive table.\"\n",
              "              style=\"display:none;\">\n",
              "        \n",
              "  <svg xmlns=\"http://www.w3.org/2000/svg\" height=\"24px\"viewBox=\"0 0 24 24\"\n",
              "       width=\"24px\">\n",
              "    <path d=\"M0 0h24v24H0V0z\" fill=\"none\"/>\n",
              "    <path d=\"M18.56 5.44l.94 2.06.94-2.06 2.06-.94-2.06-.94-.94-2.06-.94 2.06-2.06.94zm-11 1L8.5 8.5l.94-2.06 2.06-.94-2.06-.94L8.5 2.5l-.94 2.06-2.06.94zm10 10l.94 2.06.94-2.06 2.06-.94-2.06-.94-.94-2.06-.94 2.06-2.06.94z\"/><path d=\"M17.41 7.96l-1.37-1.37c-.4-.4-.92-.59-1.43-.59-.52 0-1.04.2-1.43.59L10.3 9.45l-7.72 7.72c-.78.78-.78 2.05 0 2.83L4 21.41c.39.39.9.59 1.41.59.51 0 1.02-.2 1.41-.59l7.78-7.78 2.81-2.81c.8-.78.8-2.07 0-2.86zM5.41 20L4 18.59l7.72-7.72 1.47 1.35L5.41 20z\"/>\n",
              "  </svg>\n",
              "      </button>\n",
              "      \n",
              "  <style>\n",
              "    .colab-df-container {\n",
              "      display:flex;\n",
              "      flex-wrap:wrap;\n",
              "      gap: 12px;\n",
              "    }\n",
              "\n",
              "    .colab-df-convert {\n",
              "      background-color: #E8F0FE;\n",
              "      border: none;\n",
              "      border-radius: 50%;\n",
              "      cursor: pointer;\n",
              "      display: none;\n",
              "      fill: #1967D2;\n",
              "      height: 32px;\n",
              "      padding: 0 0 0 0;\n",
              "      width: 32px;\n",
              "    }\n",
              "\n",
              "    .colab-df-convert:hover {\n",
              "      background-color: #E2EBFA;\n",
              "      box-shadow: 0px 1px 2px rgba(60, 64, 67, 0.3), 0px 1px 3px 1px rgba(60, 64, 67, 0.15);\n",
              "      fill: #174EA6;\n",
              "    }\n",
              "\n",
              "    [theme=dark] .colab-df-convert {\n",
              "      background-color: #3B4455;\n",
              "      fill: #D2E3FC;\n",
              "    }\n",
              "\n",
              "    [theme=dark] .colab-df-convert:hover {\n",
              "      background-color: #434B5C;\n",
              "      box-shadow: 0px 1px 3px 1px rgba(0, 0, 0, 0.15);\n",
              "      filter: drop-shadow(0px 1px 2px rgba(0, 0, 0, 0.3));\n",
              "      fill: #FFFFFF;\n",
              "    }\n",
              "  </style>\n",
              "\n",
              "      <script>\n",
              "        const buttonEl =\n",
              "          document.querySelector('#df-33f44145-c864-44e3-a6b3-76f6cca9933e button.colab-df-convert');\n",
              "        buttonEl.style.display =\n",
              "          google.colab.kernel.accessAllowed ? 'block' : 'none';\n",
              "\n",
              "        async function convertToInteractive(key) {\n",
              "          const element = document.querySelector('#df-33f44145-c864-44e3-a6b3-76f6cca9933e');\n",
              "          const dataTable =\n",
              "            await google.colab.kernel.invokeFunction('convertToInteractive',\n",
              "                                                     [key], {});\n",
              "          if (!dataTable) return;\n",
              "\n",
              "          const docLinkHtml = 'Like what you see? Visit the ' +\n",
              "            '<a target=\"_blank\" href=https://colab.research.google.com/notebooks/data_table.ipynb>data table notebook</a>'\n",
              "            + ' to learn more about interactive tables.';\n",
              "          element.innerHTML = '';\n",
              "          dataTable['output_type'] = 'display_data';\n",
              "          await google.colab.output.renderOutput(dataTable, element);\n",
              "          const docLink = document.createElement('div');\n",
              "          docLink.innerHTML = docLinkHtml;\n",
              "          element.appendChild(docLink);\n",
              "        }\n",
              "      </script>\n",
              "    </div>\n",
              "  </div>\n",
              "  "
            ]
          },
          "metadata": {},
          "execution_count": 55
        }
      ]
    },
    {
      "cell_type": "code",
      "source": [
        "#Check to see how many rows and columns"
      ],
      "metadata": {
        "id": "j3r-zD7Neg_C"
      },
      "execution_count": null,
      "outputs": []
    },
    {
      "cell_type": "code",
      "source": [
        "df.shape"
      ],
      "metadata": {
        "colab": {
          "base_uri": "https://localhost:8080/"
        },
        "id": "1aJOolFpJvI7",
        "outputId": "3c310e3f-c59d-422d-b542-be712404f46e"
      },
      "execution_count": null,
      "outputs": [
        {
          "output_type": "execute_result",
          "data": {
            "text/plain": [
              "(212331, 15)"
            ]
          },
          "metadata": {},
          "execution_count": 5
        }
      ]
    },
    {
      "cell_type": "code",
      "source": [
        "#Describe to find out any descriptive statistics on the entire dataset"
      ],
      "metadata": {
        "id": "groVRBicekXr"
      },
      "execution_count": null,
      "outputs": []
    },
    {
      "cell_type": "code",
      "source": [
        "df.describe()"
      ],
      "metadata": {
        "colab": {
          "base_uri": "https://localhost:8080/",
          "height": 300
        },
        "id": "d0MCfnabAugC",
        "outputId": "a7c9f746-2d1d-4c86-e7e6-aa19377da9e3"
      },
      "execution_count": null,
      "outputs": [
        {
          "output_type": "execute_result",
          "data": {
            "text/plain": [
              "                Year   Total Tested\n",
              "count  212331.000000  212331.000000\n",
              "mean     2015.956069      49.364200\n",
              "std         0.799726      93.023576\n",
              "min      2015.000000       1.000000\n",
              "25%      2015.000000       5.000000\n",
              "50%      2016.000000      20.000000\n",
              "75%      2017.000000      57.000000\n",
              "max      2017.000000    1729.000000"
            ],
            "text/html": [
              "\n",
              "  <div id=\"df-e2ccec5e-880c-405f-b04d-ded0bd4c714e\">\n",
              "    <div class=\"colab-df-container\">\n",
              "      <div>\n",
              "<style scoped>\n",
              "    .dataframe tbody tr th:only-of-type {\n",
              "        vertical-align: middle;\n",
              "    }\n",
              "\n",
              "    .dataframe tbody tr th {\n",
              "        vertical-align: top;\n",
              "    }\n",
              "\n",
              "    .dataframe thead th {\n",
              "        text-align: right;\n",
              "    }\n",
              "</style>\n",
              "<table border=\"1\" class=\"dataframe\">\n",
              "  <thead>\n",
              "    <tr style=\"text-align: right;\">\n",
              "      <th></th>\n",
              "      <th>Year</th>\n",
              "      <th>Total Tested</th>\n",
              "    </tr>\n",
              "  </thead>\n",
              "  <tbody>\n",
              "    <tr>\n",
              "      <th>count</th>\n",
              "      <td>212331.000000</td>\n",
              "      <td>212331.000000</td>\n",
              "    </tr>\n",
              "    <tr>\n",
              "      <th>mean</th>\n",
              "      <td>2015.956069</td>\n",
              "      <td>49.364200</td>\n",
              "    </tr>\n",
              "    <tr>\n",
              "      <th>std</th>\n",
              "      <td>0.799726</td>\n",
              "      <td>93.023576</td>\n",
              "    </tr>\n",
              "    <tr>\n",
              "      <th>min</th>\n",
              "      <td>2015.000000</td>\n",
              "      <td>1.000000</td>\n",
              "    </tr>\n",
              "    <tr>\n",
              "      <th>25%</th>\n",
              "      <td>2015.000000</td>\n",
              "      <td>5.000000</td>\n",
              "    </tr>\n",
              "    <tr>\n",
              "      <th>50%</th>\n",
              "      <td>2016.000000</td>\n",
              "      <td>20.000000</td>\n",
              "    </tr>\n",
              "    <tr>\n",
              "      <th>75%</th>\n",
              "      <td>2017.000000</td>\n",
              "      <td>57.000000</td>\n",
              "    </tr>\n",
              "    <tr>\n",
              "      <th>max</th>\n",
              "      <td>2017.000000</td>\n",
              "      <td>1729.000000</td>\n",
              "    </tr>\n",
              "  </tbody>\n",
              "</table>\n",
              "</div>\n",
              "      <button class=\"colab-df-convert\" onclick=\"convertToInteractive('df-e2ccec5e-880c-405f-b04d-ded0bd4c714e')\"\n",
              "              title=\"Convert this dataframe to an interactive table.\"\n",
              "              style=\"display:none;\">\n",
              "        \n",
              "  <svg xmlns=\"http://www.w3.org/2000/svg\" height=\"24px\"viewBox=\"0 0 24 24\"\n",
              "       width=\"24px\">\n",
              "    <path d=\"M0 0h24v24H0V0z\" fill=\"none\"/>\n",
              "    <path d=\"M18.56 5.44l.94 2.06.94-2.06 2.06-.94-2.06-.94-.94-2.06-.94 2.06-2.06.94zm-11 1L8.5 8.5l.94-2.06 2.06-.94-2.06-.94L8.5 2.5l-.94 2.06-2.06.94zm10 10l.94 2.06.94-2.06 2.06-.94-2.06-.94-.94-2.06-.94 2.06-2.06.94z\"/><path d=\"M17.41 7.96l-1.37-1.37c-.4-.4-.92-.59-1.43-.59-.52 0-1.04.2-1.43.59L10.3 9.45l-7.72 7.72c-.78.78-.78 2.05 0 2.83L4 21.41c.39.39.9.59 1.41.59.51 0 1.02-.2 1.41-.59l7.78-7.78 2.81-2.81c.8-.78.8-2.07 0-2.86zM5.41 20L4 18.59l7.72-7.72 1.47 1.35L5.41 20z\"/>\n",
              "  </svg>\n",
              "      </button>\n",
              "      \n",
              "  <style>\n",
              "    .colab-df-container {\n",
              "      display:flex;\n",
              "      flex-wrap:wrap;\n",
              "      gap: 12px;\n",
              "    }\n",
              "\n",
              "    .colab-df-convert {\n",
              "      background-color: #E8F0FE;\n",
              "      border: none;\n",
              "      border-radius: 50%;\n",
              "      cursor: pointer;\n",
              "      display: none;\n",
              "      fill: #1967D2;\n",
              "      height: 32px;\n",
              "      padding: 0 0 0 0;\n",
              "      width: 32px;\n",
              "    }\n",
              "\n",
              "    .colab-df-convert:hover {\n",
              "      background-color: #E2EBFA;\n",
              "      box-shadow: 0px 1px 2px rgba(60, 64, 67, 0.3), 0px 1px 3px 1px rgba(60, 64, 67, 0.15);\n",
              "      fill: #174EA6;\n",
              "    }\n",
              "\n",
              "    [theme=dark] .colab-df-convert {\n",
              "      background-color: #3B4455;\n",
              "      fill: #D2E3FC;\n",
              "    }\n",
              "\n",
              "    [theme=dark] .colab-df-convert:hover {\n",
              "      background-color: #434B5C;\n",
              "      box-shadow: 0px 1px 3px 1px rgba(0, 0, 0, 0.15);\n",
              "      filter: drop-shadow(0px 1px 2px rgba(0, 0, 0, 0.3));\n",
              "      fill: #FFFFFF;\n",
              "    }\n",
              "  </style>\n",
              "\n",
              "      <script>\n",
              "        const buttonEl =\n",
              "          document.querySelector('#df-e2ccec5e-880c-405f-b04d-ded0bd4c714e button.colab-df-convert');\n",
              "        buttonEl.style.display =\n",
              "          google.colab.kernel.accessAllowed ? 'block' : 'none';\n",
              "\n",
              "        async function convertToInteractive(key) {\n",
              "          const element = document.querySelector('#df-e2ccec5e-880c-405f-b04d-ded0bd4c714e');\n",
              "          const dataTable =\n",
              "            await google.colab.kernel.invokeFunction('convertToInteractive',\n",
              "                                                     [key], {});\n",
              "          if (!dataTable) return;\n",
              "\n",
              "          const docLinkHtml = 'Like what you see? Visit the ' +\n",
              "            '<a target=\"_blank\" href=https://colab.research.google.com/notebooks/data_table.ipynb>data table notebook</a>'\n",
              "            + ' to learn more about interactive tables.';\n",
              "          element.innerHTML = '';\n",
              "          dataTable['output_type'] = 'display_data';\n",
              "          await google.colab.output.renderOutput(dataTable, element);\n",
              "          const docLink = document.createElement('div');\n",
              "          docLink.innerHTML = docLinkHtml;\n",
              "          element.appendChild(docLink);\n",
              "        }\n",
              "      </script>\n",
              "    </div>\n",
              "  </div>\n",
              "  "
            ]
          },
          "metadata": {},
          "execution_count": 56
        }
      ]
    },
    {
      "cell_type": "code",
      "source": [
        "#Check the type for all column names"
      ],
      "metadata": {
        "id": "tRy1YhC9es6j"
      },
      "execution_count": null,
      "outputs": []
    },
    {
      "cell_type": "code",
      "source": [
        "df.dtypes"
      ],
      "metadata": {
        "colab": {
          "base_uri": "https://localhost:8080/"
        },
        "id": "rQPA1Ir3JvC9",
        "outputId": "621ebdfd-fb29-4ca5-afbd-28f7fe340472"
      },
      "execution_count": null,
      "outputs": [
        {
          "output_type": "execute_result",
          "data": {
            "text/plain": [
              "School DBN                     object\n",
              "School Name                    object\n",
              "School Level                   object\n",
              "Regents Exam                   object\n",
              "Year                            int64\n",
              "Total Tested                    int64\n",
              "Mean Score                     object\n",
              "Number Scoring Below 65        object\n",
              "Percent Scoring Below 65       object\n",
              "Number Scoring 65 or Above     object\n",
              "Percent Scoring 65 or Above    object\n",
              "Number Scoring 80 or Above     object\n",
              "Percent Scoring 80 or Above    object\n",
              "Number Scoring CR              object\n",
              "Percent Scoring CR             object\n",
              "dtype: object"
            ]
          },
          "metadata": {},
          "execution_count": 6
        }
      ]
    },
    {
      "cell_type": "code",
      "source": [
        "#check null values in each column"
      ],
      "metadata": {
        "id": "CGkktLgmK-dY"
      },
      "execution_count": null,
      "outputs": []
    },
    {
      "cell_type": "code",
      "source": [
        "df.isnull().sum()"
      ],
      "metadata": {
        "colab": {
          "base_uri": "https://localhost:8080/"
        },
        "id": "6gzFihd-Ju9J",
        "outputId": "6cb279d3-e9e0-434e-bea1-5a4ad52c3539"
      },
      "execution_count": null,
      "outputs": [
        {
          "output_type": "execute_result",
          "data": {
            "text/plain": [
              "School DBN                      0\n",
              "School Name                     0\n",
              "School Level                    0\n",
              "Regents Exam                   10\n",
              "Year                            0\n",
              "Total Tested                    0\n",
              "Mean Score                      0\n",
              "Number Scoring Below 65         0\n",
              "Percent Scoring Below 65        0\n",
              "Number Scoring 65 or Above      0\n",
              "Percent Scoring 65 or Above     0\n",
              "Number Scoring 80 or Above      0\n",
              "Percent Scoring 80 or Above     0\n",
              "Number Scoring CR               0\n",
              "Percent Scoring CR              0\n",
              "dtype: int64"
            ]
          },
          "metadata": {},
          "execution_count": 7
        }
      ]
    },
    {
      "cell_type": "code",
      "source": [
        "#Null value total"
      ],
      "metadata": {
        "id": "dcaECVSXexb6"
      },
      "execution_count": null,
      "outputs": []
    },
    {
      "cell_type": "code",
      "source": [
        "df.isnull().sum().sum()"
      ],
      "metadata": {
        "colab": {
          "base_uri": "https://localhost:8080/"
        },
        "id": "4SoyRi1wehGr",
        "outputId": "3aca1ff4-14cb-4955-c324-ecce4f757285"
      },
      "execution_count": null,
      "outputs": [
        {
          "output_type": "execute_result",
          "data": {
            "text/plain": [
              "10"
            ]
          },
          "metadata": {},
          "execution_count": 6
        }
      ]
    },
    {
      "cell_type": "code",
      "source": [
        "#group by school name to see how many rows per school to find out what a good comparison will be"
      ],
      "metadata": {
        "id": "sselXi7jJu0x"
      },
      "execution_count": null,
      "outputs": []
    },
    {
      "cell_type": "code",
      "source": [
        "df.groupby(['School Name'])['School Name'].count()"
      ],
      "metadata": {
        "colab": {
          "base_uri": "https://localhost:8080/"
        },
        "id": "uVc9tywOJuwA",
        "outputId": "ab65d305-9cc2-4643-be32-53352af90e62"
      },
      "execution_count": null,
      "outputs": [
        {
          "output_type": "execute_result",
          "data": {
            "text/plain": [
              "School Name\n",
              "47 The American Sign Language and English Secondar    356\n",
              "A. Philip Randolph Campus High School                 459\n",
              "ACORN Community High School                           364\n",
              "Abraham Lincoln High School                           480\n",
              "Abraham Lincoln Yabc                                  248\n",
              "                                                     ... \n",
              "Young Women's Leadership School                       378\n",
              "Young Women's Leadership School of Brooklyn           337\n",
              "Young Women's Leadership School of the Bronx          142\n",
              "Young Women's Leadership School, Astoria              338\n",
              "Young Women's Leadership School, Queens               391\n",
              "Name: School Name, Length: 1012, dtype: int64"
            ]
          },
          "metadata": {},
          "execution_count": 11
        }
      ]
    },
    {
      "cell_type": "code",
      "source": [
        "#Check type for 'Mean Score'"
      ],
      "metadata": {
        "id": "4WSGm7ZgfB-j"
      },
      "execution_count": null,
      "outputs": []
    },
    {
      "cell_type": "code",
      "source": [
        "print(type('Mean Score'))"
      ],
      "metadata": {
        "colab": {
          "base_uri": "https://localhost:8080/"
        },
        "id": "S3hVlWnzJui-",
        "outputId": "b88fbb5c-3577-47d7-fbc8-075ddca64d84"
      },
      "execution_count": null,
      "outputs": [
        {
          "output_type": "stream",
          "name": "stdout",
          "text": [
            "<class 'str'>\n"
          ]
        }
      ]
    },
    {
      "cell_type": "code",
      "source": [
        "df['Mean Score'] = pd.to_numeric(df['Mean Score'], errors='coerce')"
      ],
      "metadata": {
        "id": "W7wTIz7yhiLa",
        "colab": {
          "base_uri": "https://localhost:8080/",
          "height": 165
        },
        "outputId": "d7d62762-bd61-4aba-d8eb-7af1ccc3851b"
      },
      "execution_count": null,
      "outputs": [
        {
          "output_type": "error",
          "ename": "NameError",
          "evalue": "ignored",
          "traceback": [
            "\u001b[0;31m---------------------------------------------------------------------------\u001b[0m",
            "\u001b[0;31mNameError\u001b[0m                                 Traceback (most recent call last)",
            "\u001b[0;32m<ipython-input-2-b701e7ee1426>\u001b[0m in \u001b[0;36m<module>\u001b[0;34m\u001b[0m\n\u001b[0;32m----> 1\u001b[0;31m \u001b[0mdf\u001b[0m\u001b[0;34m[\u001b[0m\u001b[0;34m'Mean Score'\u001b[0m\u001b[0;34m]\u001b[0m \u001b[0;34m=\u001b[0m \u001b[0mpd\u001b[0m\u001b[0;34m.\u001b[0m\u001b[0mto_numeric\u001b[0m\u001b[0;34m(\u001b[0m\u001b[0mdf\u001b[0m\u001b[0;34m[\u001b[0m\u001b[0;34m'Mean Score'\u001b[0m\u001b[0;34m]\u001b[0m\u001b[0;34m,\u001b[0m \u001b[0merrors\u001b[0m\u001b[0;34m=\u001b[0m\u001b[0;34m'coerce'\u001b[0m\u001b[0;34m)\u001b[0m\u001b[0;34m\u001b[0m\u001b[0;34m\u001b[0m\u001b[0m\n\u001b[0m",
            "\u001b[0;31mNameError\u001b[0m: name 'pd' is not defined"
          ]
        }
      ]
    },
    {
      "cell_type": "code",
      "source": [
        "df1 = df.copy()"
      ],
      "metadata": {
        "id": "uvWh3-CKJuch"
      },
      "execution_count": null,
      "outputs": []
    },
    {
      "cell_type": "code",
      "source": [
        "#Print school names"
      ],
      "metadata": {
        "id": "0KCk9IjafYza"
      },
      "execution_count": null,
      "outputs": []
    },
    {
      "cell_type": "code",
      "source": [
        "uniqueValues = df['School Name'].unique()\n",
        "print('Unique elements in column \"School Name\" ')\n",
        "print(uniqueValues)"
      ],
      "metadata": {
        "id": "K2NCzzRaJuOJ",
        "colab": {
          "base_uri": "https://localhost:8080/"
        },
        "outputId": "69126a0b-f95a-4f41-ac9c-e055056fa937"
      },
      "execution_count": null,
      "outputs": [
        {
          "output_type": "stream",
          "name": "stdout",
          "text": [
            "Unique elements in column \"School Name\" \n",
            "['P.S. 034 Franklin D. Roosevelt' 'P.S. 140 Nathan Straus'\n",
            " 'P.S. 184m Shuang Wen' ... 'Family Life Academy Charter School'\n",
            " 'Harriet Tubman Charter School' 'Icahn Charter School']\n"
          ]
        }
      ]
    },
    {
      "cell_type": "code",
      "source": [
        "#Group by school name and count the number of rows schoring below 65"
      ],
      "metadata": {
        "id": "m1XSH2D7fc3k"
      },
      "execution_count": null,
      "outputs": []
    },
    {
      "cell_type": "code",
      "source": [
        "df.groupby(['School Name'])['Number Scoring Below 65'].count()"
      ],
      "metadata": {
        "id": "GvIt5Xm2JuKR",
        "colab": {
          "base_uri": "https://localhost:8080/"
        },
        "outputId": "304fd6b9-e6fb-4815-c25d-c6385b535e48"
      },
      "execution_count": null,
      "outputs": [
        {
          "output_type": "execute_result",
          "data": {
            "text/plain": [
              "School Name\n",
              "47 The American Sign Language and English Secondar    356\n",
              "A. Philip Randolph Campus High School                 459\n",
              "ACORN Community High School                           364\n",
              "Abraham Lincoln High School                           480\n",
              "Abraham Lincoln Yabc                                  248\n",
              "                                                     ... \n",
              "Young Women's Leadership School                       378\n",
              "Young Women's Leadership School of Brooklyn           337\n",
              "Young Women's Leadership School of the Bronx          142\n",
              "Young Women's Leadership School, Astoria              338\n",
              "Young Women's Leadership School, Queens               391\n",
              "Name: Number Scoring Below 65, Length: 1012, dtype: int64"
            ]
          },
          "metadata": {},
          "execution_count": 28
        }
      ]
    },
    {
      "cell_type": "code",
      "source": [
        "#Group by school name and count the total tested, and sort it - this is how I find which schools I want to compare"
      ],
      "metadata": {
        "id": "8mgLoV-QfkHS"
      },
      "execution_count": null,
      "outputs": []
    },
    {
      "cell_type": "code",
      "source": [
        "df.groupby(['School Name'])['Total Tested'].count().sort_values(ascending=False)"
      ],
      "metadata": {
        "id": "K86RO3QsJuG2",
        "colab": {
          "base_uri": "https://localhost:8080/"
        },
        "outputId": "e8c6e61e-6578-4044-d920-64c783c9118c"
      },
      "execution_count": null,
      "outputs": [
        {
          "output_type": "execute_result",
          "data": {
            "text/plain": [
              "School Name\n",
              "New Visions Charter High School for Advanced Math     1337\n",
              "New Visions Charter High School for the Humanities    1031\n",
              "James Madison High School                              490\n",
              "Francis Lewis High School                              490\n",
              "Edward R. Murrow High School                           489\n",
              "                                                      ... \n",
              "P.S. 084 Jose De Diego                                   5\n",
              "Explore Excel Charter School                             5\n",
              "Academy for New Americans                                5\n",
              "P.S. 183 Dr. Richard R. Green                            5\n",
              "Metropolitan Lighthouse Charter School                   5\n",
              "Name: Total Tested, Length: 1012, dtype: int64"
            ]
          },
          "metadata": {},
          "execution_count": 34
        }
      ]
    },
    {
      "cell_type": "code",
      "source": [
        "# create new dataframe and drop the nulls"
      ],
      "metadata": {
        "id": "ND-5NvwPfyMK"
      },
      "execution_count": null,
      "outputs": []
    },
    {
      "cell_type": "code",
      "source": [
        "df2= df.dropna()"
      ],
      "metadata": {
        "id": "eYd-EvMY-VjB"
      },
      "execution_count": null,
      "outputs": []
    },
    {
      "cell_type": "code",
      "source": [
        "#Concvert the 'Number scoring below 65' column to an integer"
      ],
      "metadata": {
        "id": "E4ij89vNf1ya"
      },
      "execution_count": null,
      "outputs": []
    },
    {
      "cell_type": "code",
      "source": [
        "df['Number Scoring Below 65'] = df2['Number Scoring Below 65'].astype(int)\n",
        "print (df2.dtypes)"
      ],
      "metadata": {
        "colab": {
          "base_uri": "https://localhost:8080/"
        },
        "id": "HpkWTnjW_Edh",
        "outputId": "a9feea80-e922-4866-b218-271ef660d710"
      },
      "execution_count": null,
      "outputs": [
        {
          "output_type": "stream",
          "name": "stdout",
          "text": [
            "School DBN                      object\n",
            "School Name                     object\n",
            "School Level                    object\n",
            "Regents Exam                    object\n",
            "Year                             int64\n",
            "Total Tested                     int64\n",
            "Mean Score                     float64\n",
            "Number Scoring Below 65         object\n",
            "Percent Scoring Below 65        object\n",
            "Number Scoring 65 or Above      object\n",
            "Percent Scoring 65 or Above     object\n",
            "Number Scoring 80 or Above      object\n",
            "Percent Scoring 80 or Above     object\n",
            "Number Scoring CR               object\n",
            "Percent Scoring CR              object\n",
            "dtype: object\n"
          ]
        }
      ]
    },
    {
      "cell_type": "code",
      "source": [
        "#Convert the 'Number scoring 80 or above to an integer"
      ],
      "metadata": {
        "id": "LmzqlFvCgCE6"
      },
      "execution_count": null,
      "outputs": []
    },
    {
      "cell_type": "code",
      "source": [
        "df['Number Scoring 80 or Above'] = df2['Number Scoring 80 or Above'].astype(int)"
      ],
      "metadata": {
        "id": "rXGZvT6SOcNI"
      },
      "execution_count": null,
      "outputs": []
    },
    {
      "cell_type": "code",
      "source": [
        "#Group by school name and the mean of 'Number scoring below 65'"
      ],
      "metadata": {
        "id": "P6EEM20egKby"
      },
      "execution_count": null,
      "outputs": []
    },
    {
      "cell_type": "code",
      "source": [
        "df.groupby(['School Name'])['Number Scoring Below 65'].mean().sort_values(ascending=False)"
      ],
      "metadata": {
        "id": "rYf-a2gaJtrB",
        "colab": {
          "base_uri": "https://localhost:8080/"
        },
        "outputId": "81fa3183-c8ea-461c-adaf-1859bd623887"
      },
      "execution_count": null,
      "outputs": [
        {
          "output_type": "execute_result",
          "data": {
            "text/plain": [
              "School Name\n",
              "Hillcrest High School                                 110.758782\n",
              "Bayside High School                                   106.068558\n",
              "John Bowne High School                                104.548315\n",
              "John Adams High School                                 94.925121\n",
              "Curtis High School                                     94.422434\n",
              "                                                         ...    \n",
              "Success Academy Charter School - Harlem 3                    NaN\n",
              "Technology, Arts, and Sciences Studio                        NaN\n",
              "The 47 American Sign Language & English Lower Scho           NaN\n",
              "University Neighborhood Middle School                        NaN\n",
              "Upper School @ P.S. 25                                       NaN\n",
              "Name: Number Scoring Below 65, Length: 1012, dtype: float64"
            ]
          },
          "metadata": {},
          "execution_count": 61
        }
      ]
    },
    {
      "cell_type": "code",
      "source": [
        "df.groupby(['School Name'])['Number Scoring 80 or Above'].mean().sort_values(ascending=False)"
      ],
      "metadata": {
        "id": "Sq52Z6I1JtjZ",
        "colab": {
          "base_uri": "https://localhost:8080/"
        },
        "outputId": "541ad453-0b11-4c1b-9847-c31cd06b0586"
      },
      "execution_count": null,
      "outputs": [
        {
          "output_type": "execute_result",
          "data": {
            "text/plain": [
              "School Name\n",
              "Brooklyn Technical High School                        380.139276\n",
              "Stuyvesant High School                                302.306273\n",
              "Bronx High School of Science                          252.069486\n",
              "Francis Lewis High School                             169.162584\n",
              "Midwood High School                                   138.552941\n",
              "                                                         ...    \n",
              "Success Academy Charter School - Harlem 3                    NaN\n",
              "Technology, Arts, and Sciences Studio                        NaN\n",
              "The 47 American Sign Language & English Lower Scho           NaN\n",
              "University Neighborhood Middle School                        NaN\n",
              "Upper School @ P.S. 25                                       NaN\n",
              "Name: Number Scoring 80 or Above, Length: 1012, dtype: float64"
            ]
          },
          "metadata": {},
          "execution_count": 78
        }
      ]
    },
    {
      "cell_type": "code",
      "source": [
        "#Describe function for descriptive statistics with new integers"
      ],
      "metadata": {
        "id": "CwAqVlO0gZNy"
      },
      "execution_count": null,
      "outputs": []
    },
    {
      "cell_type": "code",
      "source": [
        "df.describe()"
      ],
      "metadata": {
        "id": "o43ZKgZuJpWi",
        "colab": {
          "base_uri": "https://localhost:8080/",
          "height": 300
        },
        "outputId": "5abfc483-b2fb-4fa5-a83e-e37ba3358913"
      },
      "execution_count": null,
      "outputs": [
        {
          "output_type": "execute_result",
          "data": {
            "text/plain": [
              "                Year   Total Tested     Mean Score  Number Scoring Below 65\n",
              "count  212331.000000  212331.000000  137109.000000            137101.000000\n",
              "mean     2015.956069      49.364200      65.998967                25.139736\n",
              "std         0.799726      93.023576      11.288883                37.155921\n",
              "min      2015.000000       1.000000      15.000000                 0.000000\n",
              "25%      2015.000000       5.000000      58.300000                 5.000000\n",
              "50%      2016.000000      20.000000      65.400000                13.000000\n",
              "75%      2017.000000      57.000000      73.400000                31.000000\n",
              "max      2017.000000    1729.000000      98.700000               697.000000"
            ],
            "text/html": [
              "\n",
              "  <div id=\"df-0b02b251-f439-42b0-b908-93d8d12dc6ee\">\n",
              "    <div class=\"colab-df-container\">\n",
              "      <div>\n",
              "<style scoped>\n",
              "    .dataframe tbody tr th:only-of-type {\n",
              "        vertical-align: middle;\n",
              "    }\n",
              "\n",
              "    .dataframe tbody tr th {\n",
              "        vertical-align: top;\n",
              "    }\n",
              "\n",
              "    .dataframe thead th {\n",
              "        text-align: right;\n",
              "    }\n",
              "</style>\n",
              "<table border=\"1\" class=\"dataframe\">\n",
              "  <thead>\n",
              "    <tr style=\"text-align: right;\">\n",
              "      <th></th>\n",
              "      <th>Year</th>\n",
              "      <th>Total Tested</th>\n",
              "      <th>Mean Score</th>\n",
              "      <th>Number Scoring Below 65</th>\n",
              "    </tr>\n",
              "  </thead>\n",
              "  <tbody>\n",
              "    <tr>\n",
              "      <th>count</th>\n",
              "      <td>212331.000000</td>\n",
              "      <td>212331.000000</td>\n",
              "      <td>137109.000000</td>\n",
              "      <td>137101.000000</td>\n",
              "    </tr>\n",
              "    <tr>\n",
              "      <th>mean</th>\n",
              "      <td>2015.956069</td>\n",
              "      <td>49.364200</td>\n",
              "      <td>65.998967</td>\n",
              "      <td>25.139736</td>\n",
              "    </tr>\n",
              "    <tr>\n",
              "      <th>std</th>\n",
              "      <td>0.799726</td>\n",
              "      <td>93.023576</td>\n",
              "      <td>11.288883</td>\n",
              "      <td>37.155921</td>\n",
              "    </tr>\n",
              "    <tr>\n",
              "      <th>min</th>\n",
              "      <td>2015.000000</td>\n",
              "      <td>1.000000</td>\n",
              "      <td>15.000000</td>\n",
              "      <td>0.000000</td>\n",
              "    </tr>\n",
              "    <tr>\n",
              "      <th>25%</th>\n",
              "      <td>2015.000000</td>\n",
              "      <td>5.000000</td>\n",
              "      <td>58.300000</td>\n",
              "      <td>5.000000</td>\n",
              "    </tr>\n",
              "    <tr>\n",
              "      <th>50%</th>\n",
              "      <td>2016.000000</td>\n",
              "      <td>20.000000</td>\n",
              "      <td>65.400000</td>\n",
              "      <td>13.000000</td>\n",
              "    </tr>\n",
              "    <tr>\n",
              "      <th>75%</th>\n",
              "      <td>2017.000000</td>\n",
              "      <td>57.000000</td>\n",
              "      <td>73.400000</td>\n",
              "      <td>31.000000</td>\n",
              "    </tr>\n",
              "    <tr>\n",
              "      <th>max</th>\n",
              "      <td>2017.000000</td>\n",
              "      <td>1729.000000</td>\n",
              "      <td>98.700000</td>\n",
              "      <td>697.000000</td>\n",
              "    </tr>\n",
              "  </tbody>\n",
              "</table>\n",
              "</div>\n",
              "      <button class=\"colab-df-convert\" onclick=\"convertToInteractive('df-0b02b251-f439-42b0-b908-93d8d12dc6ee')\"\n",
              "              title=\"Convert this dataframe to an interactive table.\"\n",
              "              style=\"display:none;\">\n",
              "        \n",
              "  <svg xmlns=\"http://www.w3.org/2000/svg\" height=\"24px\"viewBox=\"0 0 24 24\"\n",
              "       width=\"24px\">\n",
              "    <path d=\"M0 0h24v24H0V0z\" fill=\"none\"/>\n",
              "    <path d=\"M18.56 5.44l.94 2.06.94-2.06 2.06-.94-2.06-.94-.94-2.06-.94 2.06-2.06.94zm-11 1L8.5 8.5l.94-2.06 2.06-.94-2.06-.94L8.5 2.5l-.94 2.06-2.06.94zm10 10l.94 2.06.94-2.06 2.06-.94-2.06-.94-.94-2.06-.94 2.06-2.06.94z\"/><path d=\"M17.41 7.96l-1.37-1.37c-.4-.4-.92-.59-1.43-.59-.52 0-1.04.2-1.43.59L10.3 9.45l-7.72 7.72c-.78.78-.78 2.05 0 2.83L4 21.41c.39.39.9.59 1.41.59.51 0 1.02-.2 1.41-.59l7.78-7.78 2.81-2.81c.8-.78.8-2.07 0-2.86zM5.41 20L4 18.59l7.72-7.72 1.47 1.35L5.41 20z\"/>\n",
              "  </svg>\n",
              "      </button>\n",
              "      \n",
              "  <style>\n",
              "    .colab-df-container {\n",
              "      display:flex;\n",
              "      flex-wrap:wrap;\n",
              "      gap: 12px;\n",
              "    }\n",
              "\n",
              "    .colab-df-convert {\n",
              "      background-color: #E8F0FE;\n",
              "      border: none;\n",
              "      border-radius: 50%;\n",
              "      cursor: pointer;\n",
              "      display: none;\n",
              "      fill: #1967D2;\n",
              "      height: 32px;\n",
              "      padding: 0 0 0 0;\n",
              "      width: 32px;\n",
              "    }\n",
              "\n",
              "    .colab-df-convert:hover {\n",
              "      background-color: #E2EBFA;\n",
              "      box-shadow: 0px 1px 2px rgba(60, 64, 67, 0.3), 0px 1px 3px 1px rgba(60, 64, 67, 0.15);\n",
              "      fill: #174EA6;\n",
              "    }\n",
              "\n",
              "    [theme=dark] .colab-df-convert {\n",
              "      background-color: #3B4455;\n",
              "      fill: #D2E3FC;\n",
              "    }\n",
              "\n",
              "    [theme=dark] .colab-df-convert:hover {\n",
              "      background-color: #434B5C;\n",
              "      box-shadow: 0px 1px 3px 1px rgba(0, 0, 0, 0.15);\n",
              "      filter: drop-shadow(0px 1px 2px rgba(0, 0, 0, 0.3));\n",
              "      fill: #FFFFFF;\n",
              "    }\n",
              "  </style>\n",
              "\n",
              "      <script>\n",
              "        const buttonEl =\n",
              "          document.querySelector('#df-0b02b251-f439-42b0-b908-93d8d12dc6ee button.colab-df-convert');\n",
              "        buttonEl.style.display =\n",
              "          google.colab.kernel.accessAllowed ? 'block' : 'none';\n",
              "\n",
              "        async function convertToInteractive(key) {\n",
              "          const element = document.querySelector('#df-0b02b251-f439-42b0-b908-93d8d12dc6ee');\n",
              "          const dataTable =\n",
              "            await google.colab.kernel.invokeFunction('convertToInteractive',\n",
              "                                                     [key], {});\n",
              "          if (!dataTable) return;\n",
              "\n",
              "          const docLinkHtml = 'Like what you see? Visit the ' +\n",
              "            '<a target=\"_blank\" href=https://colab.research.google.com/notebooks/data_table.ipynb>data table notebook</a>'\n",
              "            + ' to learn more about interactive tables.';\n",
              "          element.innerHTML = '';\n",
              "          dataTable['output_type'] = 'display_data';\n",
              "          await google.colab.output.renderOutput(dataTable, element);\n",
              "          const docLink = document.createElement('div');\n",
              "          docLink.innerHTML = docLinkHtml;\n",
              "          element.appendChild(docLink);\n",
              "        }\n",
              "      </script>\n",
              "    </div>\n",
              "  </div>\n",
              "  "
            ]
          },
          "metadata": {},
          "execution_count": 52
        }
      ]
    },
    {
      "cell_type": "code",
      "source": [
        "#find out number of each school "
      ],
      "metadata": {
        "id": "B2z8LyuGgqSi"
      },
      "execution_count": null,
      "outputs": []
    },
    {
      "cell_type": "code",
      "source": [
        "df['School Name'].value_counts()"
      ],
      "metadata": {
        "id": "8ignGbMNJpQx",
        "colab": {
          "base_uri": "https://localhost:8080/"
        },
        "outputId": "a7e58cd0-33da-4dae-e7da-ca69fccd3a78"
      },
      "execution_count": null,
      "outputs": [
        {
          "output_type": "execute_result",
          "data": {
            "text/plain": [
              "New Visions Charter High School for Advanced Math     1337\n",
              "New Visions Charter High School for the Humanities    1031\n",
              "Francis Lewis High School                              490\n",
              "James Madison High School                              490\n",
              "Long Island City High School                           489\n",
              "                                                      ... \n",
              "Middle School for Academic and Social Excellence         5\n",
              "P.S. 202 Ernest S. Jenkyns                               5\n",
              "J.H.S. 166 George Gershwin                               5\n",
              "Success Academy Charter School - Harlem 3                5\n",
              "Explore Excel Charter School                             5\n",
              "Name: School Name, Length: 1012, dtype: int64"
            ]
          },
          "metadata": {},
          "execution_count": 67
        }
      ]
    },
    {
      "cell_type": "code",
      "source": [
        "#find the mean for \"Long Island City High School\" for all columns that are integers"
      ],
      "metadata": {
        "id": "qhMV_zBwguMK"
      },
      "execution_count": null,
      "outputs": []
    },
    {
      "cell_type": "code",
      "source": [
        "df[df[\"School Name\"].str.contains(\"Long Island City High School\")].mean()"
      ],
      "metadata": {
        "colab": {
          "base_uri": "https://localhost:8080/"
        },
        "id": "8-iV3XRHReao",
        "outputId": "ec481d16-6c73-4a25-86e2-f72288179344"
      },
      "execution_count": null,
      "outputs": [
        {
          "output_type": "stream",
          "name": "stderr",
          "text": [
            "<ipython-input-84-bbcb2e9bbe40>:1: FutureWarning: Dropping of nuisance columns in DataFrame reductions (with 'numeric_only=None') is deprecated; in a future version this will raise TypeError.  Select only valid columns before calling the reduction.\n",
            "  df[df[\"School Name\"].str.contains(\"Long Island City High School\")].mean()\n"
          ]
        },
        {
          "output_type": "execute_result",
          "data": {
            "text/plain": [
              "Year                          2015.942740\n",
              "Total Tested                   160.572597\n",
              "Number Scoring Below 65         91.536530\n",
              "Number Scoring 80 or Above      22.509132\n",
              "dtype: float64"
            ]
          },
          "metadata": {},
          "execution_count": 84
        }
      ]
    },
    {
      "cell_type": "code",
      "source": [
        "#find the mean for \"James Madison High School\" for all columns that are integers"
      ],
      "metadata": {
        "id": "CBvVmX23g-xC"
      },
      "execution_count": null,
      "outputs": []
    },
    {
      "cell_type": "code",
      "source": [
        "df[df[\"School Name\"].str.contains(\"James Madison High School\")].mean()"
      ],
      "metadata": {
        "colab": {
          "base_uri": "https://localhost:8080/"
        },
        "id": "UW8C_C6FRq2Y",
        "outputId": "93f219cf-957a-4d4b-f327-f8a0db273cfc"
      },
      "execution_count": null,
      "outputs": [
        {
          "output_type": "stream",
          "name": "stderr",
          "text": [
            "<ipython-input-85-0285fcfecaab>:1: FutureWarning: Dropping of nuisance columns in DataFrame reductions (with 'numeric_only=None') is deprecated; in a future version this will raise TypeError.  Select only valid columns before calling the reduction.\n",
            "  df[df[\"School Name\"].str.contains(\"James Madison High School\")].mean()\n"
          ]
        },
        {
          "output_type": "execute_result",
          "data": {
            "text/plain": [
              "Year                          2015.948980\n",
              "Total Tested                   219.908163\n",
              "Number Scoring Below 65         77.335714\n",
              "Number Scoring 80 or Above      71.597619\n",
              "dtype: float64"
            ]
          },
          "metadata": {},
          "execution_count": 85
        }
      ]
    },
    {
      "cell_type": "code",
      "source": [
        "#Use describe function for school \"Long Island City\""
      ],
      "metadata": {
        "id": "cLk5Ff5YhJoS"
      },
      "execution_count": null,
      "outputs": []
    },
    {
      "cell_type": "code",
      "source": [
        "df[df[\"School Name\"].str.contains(\"Long Island City High School\")].describe()"
      ],
      "metadata": {
        "colab": {
          "base_uri": "https://localhost:8080/",
          "height": 300
        },
        "id": "gAd02eAoSMqJ",
        "outputId": "97a727eb-5d3a-408b-ee21-352666be667d"
      },
      "execution_count": null,
      "outputs": [
        {
          "output_type": "execute_result",
          "data": {
            "text/plain": [
              "              Year  Total Tested  Number Scoring Below 65  \\\n",
              "count   489.000000    489.000000               438.000000   \n",
              "mean   2015.942740    160.572597                91.536530   \n",
              "std       0.792378    187.421064                90.060886   \n",
              "min    2015.000000      1.000000                 0.000000   \n",
              "25%    2015.000000     28.000000                21.250000   \n",
              "50%    2016.000000     95.000000                64.500000   \n",
              "75%    2017.000000    220.000000               130.000000   \n",
              "max    2017.000000   1080.000000               494.000000   \n",
              "\n",
              "       Number Scoring 80 or Above  \n",
              "count                  438.000000  \n",
              "mean                    22.509132  \n",
              "std                     39.883683  \n",
              "min                      0.000000  \n",
              "25%                      1.000000  \n",
              "50%                      5.000000  \n",
              "75%                     22.750000  \n",
              "max                    281.000000  "
            ],
            "text/html": [
              "\n",
              "  <div id=\"df-47ef1b63-845c-4064-be85-93ff45406faf\">\n",
              "    <div class=\"colab-df-container\">\n",
              "      <div>\n",
              "<style scoped>\n",
              "    .dataframe tbody tr th:only-of-type {\n",
              "        vertical-align: middle;\n",
              "    }\n",
              "\n",
              "    .dataframe tbody tr th {\n",
              "        vertical-align: top;\n",
              "    }\n",
              "\n",
              "    .dataframe thead th {\n",
              "        text-align: right;\n",
              "    }\n",
              "</style>\n",
              "<table border=\"1\" class=\"dataframe\">\n",
              "  <thead>\n",
              "    <tr style=\"text-align: right;\">\n",
              "      <th></th>\n",
              "      <th>Year</th>\n",
              "      <th>Total Tested</th>\n",
              "      <th>Number Scoring Below 65</th>\n",
              "      <th>Number Scoring 80 or Above</th>\n",
              "    </tr>\n",
              "  </thead>\n",
              "  <tbody>\n",
              "    <tr>\n",
              "      <th>count</th>\n",
              "      <td>489.000000</td>\n",
              "      <td>489.000000</td>\n",
              "      <td>438.000000</td>\n",
              "      <td>438.000000</td>\n",
              "    </tr>\n",
              "    <tr>\n",
              "      <th>mean</th>\n",
              "      <td>2015.942740</td>\n",
              "      <td>160.572597</td>\n",
              "      <td>91.536530</td>\n",
              "      <td>22.509132</td>\n",
              "    </tr>\n",
              "    <tr>\n",
              "      <th>std</th>\n",
              "      <td>0.792378</td>\n",
              "      <td>187.421064</td>\n",
              "      <td>90.060886</td>\n",
              "      <td>39.883683</td>\n",
              "    </tr>\n",
              "    <tr>\n",
              "      <th>min</th>\n",
              "      <td>2015.000000</td>\n",
              "      <td>1.000000</td>\n",
              "      <td>0.000000</td>\n",
              "      <td>0.000000</td>\n",
              "    </tr>\n",
              "    <tr>\n",
              "      <th>25%</th>\n",
              "      <td>2015.000000</td>\n",
              "      <td>28.000000</td>\n",
              "      <td>21.250000</td>\n",
              "      <td>1.000000</td>\n",
              "    </tr>\n",
              "    <tr>\n",
              "      <th>50%</th>\n",
              "      <td>2016.000000</td>\n",
              "      <td>95.000000</td>\n",
              "      <td>64.500000</td>\n",
              "      <td>5.000000</td>\n",
              "    </tr>\n",
              "    <tr>\n",
              "      <th>75%</th>\n",
              "      <td>2017.000000</td>\n",
              "      <td>220.000000</td>\n",
              "      <td>130.000000</td>\n",
              "      <td>22.750000</td>\n",
              "    </tr>\n",
              "    <tr>\n",
              "      <th>max</th>\n",
              "      <td>2017.000000</td>\n",
              "      <td>1080.000000</td>\n",
              "      <td>494.000000</td>\n",
              "      <td>281.000000</td>\n",
              "    </tr>\n",
              "  </tbody>\n",
              "</table>\n",
              "</div>\n",
              "      <button class=\"colab-df-convert\" onclick=\"convertToInteractive('df-47ef1b63-845c-4064-be85-93ff45406faf')\"\n",
              "              title=\"Convert this dataframe to an interactive table.\"\n",
              "              style=\"display:none;\">\n",
              "        \n",
              "  <svg xmlns=\"http://www.w3.org/2000/svg\" height=\"24px\"viewBox=\"0 0 24 24\"\n",
              "       width=\"24px\">\n",
              "    <path d=\"M0 0h24v24H0V0z\" fill=\"none\"/>\n",
              "    <path d=\"M18.56 5.44l.94 2.06.94-2.06 2.06-.94-2.06-.94-.94-2.06-.94 2.06-2.06.94zm-11 1L8.5 8.5l.94-2.06 2.06-.94-2.06-.94L8.5 2.5l-.94 2.06-2.06.94zm10 10l.94 2.06.94-2.06 2.06-.94-2.06-.94-.94-2.06-.94 2.06-2.06.94z\"/><path d=\"M17.41 7.96l-1.37-1.37c-.4-.4-.92-.59-1.43-.59-.52 0-1.04.2-1.43.59L10.3 9.45l-7.72 7.72c-.78.78-.78 2.05 0 2.83L4 21.41c.39.39.9.59 1.41.59.51 0 1.02-.2 1.41-.59l7.78-7.78 2.81-2.81c.8-.78.8-2.07 0-2.86zM5.41 20L4 18.59l7.72-7.72 1.47 1.35L5.41 20z\"/>\n",
              "  </svg>\n",
              "      </button>\n",
              "      \n",
              "  <style>\n",
              "    .colab-df-container {\n",
              "      display:flex;\n",
              "      flex-wrap:wrap;\n",
              "      gap: 12px;\n",
              "    }\n",
              "\n",
              "    .colab-df-convert {\n",
              "      background-color: #E8F0FE;\n",
              "      border: none;\n",
              "      border-radius: 50%;\n",
              "      cursor: pointer;\n",
              "      display: none;\n",
              "      fill: #1967D2;\n",
              "      height: 32px;\n",
              "      padding: 0 0 0 0;\n",
              "      width: 32px;\n",
              "    }\n",
              "\n",
              "    .colab-df-convert:hover {\n",
              "      background-color: #E2EBFA;\n",
              "      box-shadow: 0px 1px 2px rgba(60, 64, 67, 0.3), 0px 1px 3px 1px rgba(60, 64, 67, 0.15);\n",
              "      fill: #174EA6;\n",
              "    }\n",
              "\n",
              "    [theme=dark] .colab-df-convert {\n",
              "      background-color: #3B4455;\n",
              "      fill: #D2E3FC;\n",
              "    }\n",
              "\n",
              "    [theme=dark] .colab-df-convert:hover {\n",
              "      background-color: #434B5C;\n",
              "      box-shadow: 0px 1px 3px 1px rgba(0, 0, 0, 0.15);\n",
              "      filter: drop-shadow(0px 1px 2px rgba(0, 0, 0, 0.3));\n",
              "      fill: #FFFFFF;\n",
              "    }\n",
              "  </style>\n",
              "\n",
              "      <script>\n",
              "        const buttonEl =\n",
              "          document.querySelector('#df-47ef1b63-845c-4064-be85-93ff45406faf button.colab-df-convert');\n",
              "        buttonEl.style.display =\n",
              "          google.colab.kernel.accessAllowed ? 'block' : 'none';\n",
              "\n",
              "        async function convertToInteractive(key) {\n",
              "          const element = document.querySelector('#df-47ef1b63-845c-4064-be85-93ff45406faf');\n",
              "          const dataTable =\n",
              "            await google.colab.kernel.invokeFunction('convertToInteractive',\n",
              "                                                     [key], {});\n",
              "          if (!dataTable) return;\n",
              "\n",
              "          const docLinkHtml = 'Like what you see? Visit the ' +\n",
              "            '<a target=\"_blank\" href=https://colab.research.google.com/notebooks/data_table.ipynb>data table notebook</a>'\n",
              "            + ' to learn more about interactive tables.';\n",
              "          element.innerHTML = '';\n",
              "          dataTable['output_type'] = 'display_data';\n",
              "          await google.colab.output.renderOutput(dataTable, element);\n",
              "          const docLink = document.createElement('div');\n",
              "          docLink.innerHTML = docLinkHtml;\n",
              "          element.appendChild(docLink);\n",
              "        }\n",
              "      </script>\n",
              "    </div>\n",
              "  </div>\n",
              "  "
            ]
          },
          "metadata": {},
          "execution_count": 86
        }
      ]
    },
    {
      "cell_type": "code",
      "source": [
        "import numpy as np \n",
        "import matplotlib as mpl"
      ],
      "metadata": {
        "id": "lT2KRGxohpY6"
      },
      "execution_count": null,
      "outputs": []
    },
    {
      "cell_type": "code",
      "source": [
        "import matplotlib.pyplot as plt "
      ],
      "metadata": {
        "id": "eCVCp108hpVt"
      },
      "execution_count": null,
      "outputs": []
    },
    {
      "cell_type": "code",
      "source": [
        "import seaborn as sns\n",
        "%matplotlib inline"
      ],
      "metadata": {
        "id": "WAqpPa0ulpth"
      },
      "execution_count": null,
      "outputs": []
    },
    {
      "cell_type": "code",
      "source": [
        "sns.displot(df['Total Tested'], bins=20)"
      ],
      "metadata": {
        "colab": {
          "base_uri": "https://localhost:8080/",
          "height": 386
        },
        "id": "yWzx9YzJhpSl",
        "outputId": "0417e8ad-90d3-418c-c428-1e8d9ea334c1"
      },
      "execution_count": null,
      "outputs": [
        {
          "output_type": "execute_result",
          "data": {
            "text/plain": [
              "<seaborn.axisgrid.FacetGrid at 0x7fefa030d550>"
            ]
          },
          "metadata": {},
          "execution_count": 21
        },
        {
          "output_type": "display_data",
          "data": {
            "text/plain": [
              "<Figure size 360x360 with 1 Axes>"
            ],
            "image/png": "[encoded data removed]"
          },
          "metadata": {
            "needs_background": "light"
          }
        }
      ]
    },
    {
      "cell_type": "code",
      "source": [
        "sns.jointplot(x='Year', y=\"Total Tested\", data=df, kind='hex')"
      ],
      "metadata": {
        "colab": {
          "base_uri": "https://localhost:8080/",
          "height": 458
        },
        "id": "OUC6zmoThpPt",
        "outputId": "7f80d366-9ad1-46b8-892e-b39c3a445621"
      },
      "execution_count": null,
      "outputs": [
        {
          "output_type": "execute_result",
          "data": {
            "text/plain": [
              "<seaborn.axisgrid.JointGrid at 0x7fef9f962d60>"
            ]
          },
          "metadata": {},
          "execution_count": 24
        },
        {
          "output_type": "display_data",
          "data": {
            "text/plain": [
              "<Figure size 432x432 with 3 Axes>"
            ],
            "image/png": "[encoded data removed]"
          },
          "metadata": {
            "needs_background": "light"
          }
        }
      ]
    },
    {
      "cell_type": "code",
      "source": [
        "sns.pairplot(df)"
      ],
      "metadata": {
        "colab": {
          "base_uri": "https://localhost:8080/",
          "height": 391
        },
        "id": "-ufDTZ1_hpMz",
        "outputId": "cabc1382-f9f4-4026-d3f6-955bb6064696"
      },
      "execution_count": null,
      "outputs": [
        {
          "output_type": "execute_result",
          "data": {
            "text/plain": [
              "<seaborn.axisgrid.PairGrid at 0x7fef9eb7d610>"
            ]
          },
          "metadata": {},
          "execution_count": 25
        },
        {
          "output_type": "display_data",
          "data": {
            "text/plain": [
              "<Figure size 360x360 with 6 Axes>"
            ],
            "image/png": "[encoded data removed]"
          },
          "metadata": {
            "needs_background": "light"
          }
        }
      ]
    },
    {
      "cell_type": "code",
      "source": [
        "sns.barplot(x='School Name', y='Total Tested', data=df)"
      ],
      "metadata": {
        "id": "gUdXmB2OhpKC",
        "colab": {
          "base_uri": "https://localhost:8080/",
          "height": 299
        },
        "outputId": "ebf5ee82-bda3-40fc-d8c2-525ff1f84d60"
      },
      "execution_count": null,
      "outputs": [
        {
          "output_type": "execute_result",
          "data": {
            "text/plain": [
              "<matplotlib.axes._subplots.AxesSubplot at 0x7f041f5877c0>"
            ]
          },
          "metadata": {},
          "execution_count": 7
        },
        {
          "output_type": "display_data",
          "data": {
            "text/plain": [
              "<Figure size 432x288 with 1 Axes>"
            ],
            "image/png": "[encoded data removed]"
          },
          "metadata": {
            "needs_background": "light"
          }
        }
      ]
    }
  ]
}