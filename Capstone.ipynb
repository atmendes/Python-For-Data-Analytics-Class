{
  "nbformat": 4,
  "nbformat_minor": 0,
  "metadata": {
    "colab": {
      "provenance": [],
      "authorship_tag": "ABX9TyPusK6bKjzL74lKdIb9lo5x",
      "include_colab_link": true
    },
    "kernelspec": {
      "name": "python3",
      "display_name": "Python 3"
    },
    "language_info": {
      "name": "python"
    }
  },
  "cells": [
    {
      "cell_type": "markdown",
      "metadata": {
        "id": "view-in-github",
        "colab_type": "text"
      },
      "source": [
        "<a href=\"https://colab.research.google.com/github/atmendes/Python-For-Data-Analytics-Class/blob/main/Capstone.ipynb\" target=\"_parent\"><img src=\"https://colab.research.google.com/assets/colab-badge.svg\" alt=\"Open In Colab\"/></a>"
      ]
    },
    {
      "cell_type": "code",
      "execution_count": null,
      "metadata": {
        "id": "24efdDgTazee"
      },
      "outputs": [],
      "source": [
        "import pandas as pd"
      ]
    },
    {
      "cell_type": "code",
      "source": [
        "import numpy as np\n",
        "from scipy.stats import chi2_contingency "
      ],
      "metadata": {
        "id": "74Bw_KGvPUmA"
      },
      "execution_count": null,
      "outputs": []
    },
    {
      "cell_type": "code",
      "source": [
        "import matplotlib.pyplot as plt\n",
        "%matplotlib inline"
      ],
      "metadata": {
        "id": "J5S2gDmBXDcY"
      },
      "execution_count": null,
      "outputs": []
    },
    {
      "cell_type": "code",
      "source": [
        "import seaborn as sns"
      ],
      "metadata": {
        "id": "GWNOTenHXNro"
      },
      "execution_count": null,
      "outputs": []
    },
    {
      "cell_type": "code",
      "source": [
        "df = pd.read_csv(\"https://raw.githubusercontent.com/atmendes/Python-For-Data-Analytics-Class/main/NYPD_Arrest_Data__Year_to_Date_.csv\")"
      ],
      "metadata": {
        "id": "eUDW4cvua8fm"
      },
      "execution_count": null,
      "outputs": []
    },
    {
      "cell_type": "code",
      "source": [
        "df.head()"
      ],
      "metadata": {
        "colab": {
          "base_uri": "https://localhost:8080/",
          "height": 478
        },
        "id": "uuj6pcGbb0Dm",
        "outputId": "f64cd76d-918f-4aef-bafb-f81bf9951e01"
      },
      "execution_count": null,
      "outputs": [
        {
          "output_type": "execute_result",
          "data": {
            "text/plain": [
              "   ARREST_KEY ARREST_DATE  PD_CD                        PD_DESC  KY_CD  \\\n",
              "0   238942621  01/10/2022  101.0                      ASSAULT 3  344.0   \n",
              "1   238980679  01/11/2022  244.0  BURGLARY,UNCLASSIFIED,UNKNOWN  107.0   \n",
              "2   239553009  01/23/2022  464.0                       JOSTLING  230.0   \n",
              "3   239651234  01/25/2022  153.0                         RAPE 3  104.0   \n",
              "4   241524225  03/03/2022  157.0                         RAPE 1  104.0   \n",
              "\n",
              "                      OFNS_DESC    LAW_CODE LAW_CAT_CD ARREST_BORO  \\\n",
              "0  ASSAULT 3 & RELATED OFFENSES  PL 1200001          M           M   \n",
              "1                      BURGLARY  PL 1402000          F           Q   \n",
              "2                      JOSTLING  PL 1652501          M           Q   \n",
              "3                          RAPE  PL 1302503          F           K   \n",
              "4                          RAPE  PL 1303501          F           K   \n",
              "\n",
              "   ARREST_PRECINCT  JURISDICTION_CODE AGE_GROUP PERP_SEX PERP_RACE  \\\n",
              "0                9                  0     18-24        M     WHITE   \n",
              "1              101                  0     25-44        M     WHITE   \n",
              "2              110                  1     25-44        M     BLACK   \n",
              "3               71                  0     25-44        M     BLACK   \n",
              "4               84                  0     18-24        M     BLACK   \n",
              "\n",
              "   X_COORD_CD  Y_COORD_CD   Latitude  Longitude  \\\n",
              "0      987058      203626  40.725583 -73.989869   \n",
              "1     1052353      159425  40.604001 -73.754742   \n",
              "2     1027679      214505  40.755336 -73.843245   \n",
              "3      998742      181235  40.664121 -73.947765   \n",
              "4      988902      192641  40.695439 -73.983225   \n",
              "\n",
              "                     New Georeferenced Column  \n",
              "0            POINT (-73.98986919 40.72558254)  \n",
              "1                POINT (-73.754742 40.604001)  \n",
              "2            POINT (-73.84324519 40.75533648)  \n",
              "3   POINT (-73.9477648403751 40.664121282631)  \n",
              "4  POINT (-73.9832253756043 40.6954388081238)  "
            ],
            "text/html": [
              "\n",
              "  <div id=\"df-5d114181-ed78-42ea-a388-8f6a84dc39e1\">\n",
              "    <div class=\"colab-df-container\">\n",
              "      <div>\n",
              "<style scoped>\n",
              "    .dataframe tbody tr th:only-of-type {\n",
              "        vertical-align: middle;\n",
              "    }\n",
              "\n",
              "    .dataframe tbody tr th {\n",
              "        vertical-align: top;\n",
              "    }\n",
              "\n",
              "    .dataframe thead th {\n",
              "        text-align: right;\n",
              "    }\n",
              "</style>\n",
              "<table border=\"1\" class=\"dataframe\">\n",
              "  <thead>\n",
              "    <tr style=\"text-align: right;\">\n",
              "      <th></th>\n",
              "      <th>ARREST_KEY</th>\n",
              "      <th>ARREST_DATE</th>\n",
              "      <th>PD_CD</th>\n",
              "      <th>PD_DESC</th>\n",
              "      <th>KY_CD</th>\n",
              "      <th>OFNS_DESC</th>\n",
              "      <th>LAW_CODE</th>\n",
              "      <th>LAW_CAT_CD</th>\n",
              "      <th>ARREST_BORO</th>\n",
              "      <th>ARREST_PRECINCT</th>\n",
              "      <th>JURISDICTION_CODE</th>\n",
              "      <th>AGE_GROUP</th>\n",
              "      <th>PERP_SEX</th>\n",
              "      <th>PERP_RACE</th>\n",
              "      <th>X_COORD_CD</th>\n",
              "      <th>Y_COORD_CD</th>\n",
              "      <th>Latitude</th>\n",
              "      <th>Longitude</th>\n",
              "      <th>New Georeferenced Column</th>\n",
              "    </tr>\n",
              "  </thead>\n",
              "  <tbody>\n",
              "    <tr>\n",
              "      <th>0</th>\n",
              "      <td>238942621</td>\n",
              "      <td>01/10/2022</td>\n",
              "      <td>101.0</td>\n",
              "      <td>ASSAULT 3</td>\n",
              "      <td>344.0</td>\n",
              "      <td>ASSAULT 3 &amp; RELATED OFFENSES</td>\n",
              "      <td>PL 1200001</td>\n",
              "      <td>M</td>\n",
              "      <td>M</td>\n",
              "      <td>9</td>\n",
              "      <td>0</td>\n",
              "      <td>18-24</td>\n",
              "      <td>M</td>\n",
              "      <td>WHITE</td>\n",
              "      <td>987058</td>\n",
              "      <td>203626</td>\n",
              "      <td>40.725583</td>\n",
              "      <td>-73.989869</td>\n",
              "      <td>POINT (-73.98986919 40.72558254)</td>\n",
              "    </tr>\n",
              "    <tr>\n",
              "      <th>1</th>\n",
              "      <td>238980679</td>\n",
              "      <td>01/11/2022</td>\n",
              "      <td>244.0</td>\n",
              "      <td>BURGLARY,UNCLASSIFIED,UNKNOWN</td>\n",
              "      <td>107.0</td>\n",
              "      <td>BURGLARY</td>\n",
              "      <td>PL 1402000</td>\n",
              "      <td>F</td>\n",
              "      <td>Q</td>\n",
              "      <td>101</td>\n",
              "      <td>0</td>\n",
              "      <td>25-44</td>\n",
              "      <td>M</td>\n",
              "      <td>WHITE</td>\n",
              "      <td>1052353</td>\n",
              "      <td>159425</td>\n",
              "      <td>40.604001</td>\n",
              "      <td>-73.754742</td>\n",
              "      <td>POINT (-73.754742 40.604001)</td>\n",
              "    </tr>\n",
              "    <tr>\n",
              "      <th>2</th>\n",
              "      <td>239553009</td>\n",
              "      <td>01/23/2022</td>\n",
              "      <td>464.0</td>\n",
              "      <td>JOSTLING</td>\n",
              "      <td>230.0</td>\n",
              "      <td>JOSTLING</td>\n",
              "      <td>PL 1652501</td>\n",
              "      <td>M</td>\n",
              "      <td>Q</td>\n",
              "      <td>110</td>\n",
              "      <td>1</td>\n",
              "      <td>25-44</td>\n",
              "      <td>M</td>\n",
              "      <td>BLACK</td>\n",
              "      <td>1027679</td>\n",
              "      <td>214505</td>\n",
              "      <td>40.755336</td>\n",
              "      <td>-73.843245</td>\n",
              "      <td>POINT (-73.84324519 40.75533648)</td>\n",
              "    </tr>\n",
              "    <tr>\n",
              "      <th>3</th>\n",
              "      <td>239651234</td>\n",
              "      <td>01/25/2022</td>\n",
              "      <td>153.0</td>\n",
              "      <td>RAPE 3</td>\n",
              "      <td>104.0</td>\n",
              "      <td>RAPE</td>\n",
              "      <td>PL 1302503</td>\n",
              "      <td>F</td>\n",
              "      <td>K</td>\n",
              "      <td>71</td>\n",
              "      <td>0</td>\n",
              "      <td>25-44</td>\n",
              "      <td>M</td>\n",
              "      <td>BLACK</td>\n",
              "      <td>998742</td>\n",
              "      <td>181235</td>\n",
              "      <td>40.664121</td>\n",
              "      <td>-73.947765</td>\n",
              "      <td>POINT (-73.9477648403751 40.664121282631)</td>\n",
              "    </tr>\n",
              "    <tr>\n",
              "      <th>4</th>\n",
              "      <td>241524225</td>\n",
              "      <td>03/03/2022</td>\n",
              "      <td>157.0</td>\n",
              "      <td>RAPE 1</td>\n",
              "      <td>104.0</td>\n",
              "      <td>RAPE</td>\n",
              "      <td>PL 1303501</td>\n",
              "      <td>F</td>\n",
              "      <td>K</td>\n",
              "      <td>84</td>\n",
              "      <td>0</td>\n",
              "      <td>18-24</td>\n",
              "      <td>M</td>\n",
              "      <td>BLACK</td>\n",
              "      <td>988902</td>\n",
              "      <td>192641</td>\n",
              "      <td>40.695439</td>\n",
              "      <td>-73.983225</td>\n",
              "      <td>POINT (-73.9832253756043 40.6954388081238)</td>\n",
              "    </tr>\n",
              "  </tbody>\n",
              "</table>\n",
              "</div>\n",
              "      <button class=\"colab-df-convert\" onclick=\"convertToInteractive('df-5d114181-ed78-42ea-a388-8f6a84dc39e1')\"\n",
              "              title=\"Convert this dataframe to an interactive table.\"\n",
              "              style=\"display:none;\">\n",
              "        \n",
              "  <svg xmlns=\"http://www.w3.org/2000/svg\" height=\"24px\"viewBox=\"0 0 24 24\"\n",
              "       width=\"24px\">\n",
              "    <path d=\"M0 0h24v24H0V0z\" fill=\"none\"/>\n",
              "    <path d=\"M18.56 5.44l.94 2.06.94-2.06 2.06-.94-2.06-.94-.94-2.06-.94 2.06-2.06.94zm-11 1L8.5 8.5l.94-2.06 2.06-.94-2.06-.94L8.5 2.5l-.94 2.06-2.06.94zm10 10l.94 2.06.94-2.06 2.06-.94-2.06-.94-.94-2.06-.94 2.06-2.06.94z\"/><path d=\"M17.41 7.96l-1.37-1.37c-.4-.4-.92-.59-1.43-.59-.52 0-1.04.2-1.43.59L10.3 9.45l-7.72 7.72c-.78.78-.78 2.05 0 2.83L4 21.41c.39.39.9.59 1.41.59.51 0 1.02-.2 1.41-.59l7.78-7.78 2.81-2.81c.8-.78.8-2.07 0-2.86zM5.41 20L4 18.59l7.72-7.72 1.47 1.35L5.41 20z\"/>\n",
              "  </svg>\n",
              "      </button>\n",
              "      \n",
              "  <style>\n",
              "    .colab-df-container {\n",
              "      display:flex;\n",
              "      flex-wrap:wrap;\n",
              "      gap: 12px;\n",
              "    }\n",
              "\n",
              "    .colab-df-convert {\n",
              "      background-color: #E8F0FE;\n",
              "      border: none;\n",
              "      border-radius: 50%;\n",
              "      cursor: pointer;\n",
              "      display: none;\n",
              "      fill: #1967D2;\n",
              "      height: 32px;\n",
              "      padding: 0 0 0 0;\n",
              "      width: 32px;\n",
              "    }\n",
              "\n",
              "    .colab-df-convert:hover {\n",
              "      background-color: #E2EBFA;\n",
              "      box-shadow: 0px 1px 2px rgba(60, 64, 67, 0.3), 0px 1px 3px 1px rgba(60, 64, 67, 0.15);\n",
              "      fill: #174EA6;\n",
              "    }\n",
              "\n",
              "    [theme=dark] .colab-df-convert {\n",
              "      background-color: #3B4455;\n",
              "      fill: #D2E3FC;\n",
              "    }\n",
              "\n",
              "    [theme=dark] .colab-df-convert:hover {\n",
              "      background-color: #434B5C;\n",
              "      box-shadow: 0px 1px 3px 1px rgba(0, 0, 0, 0.15);\n",
              "      filter: drop-shadow(0px 1px 2px rgba(0, 0, 0, 0.3));\n",
              "      fill: #FFFFFF;\n",
              "    }\n",
              "  </style>\n",
              "\n",
              "      <script>\n",
              "        const buttonEl =\n",
              "          document.querySelector('#df-5d114181-ed78-42ea-a388-8f6a84dc39e1 button.colab-df-convert');\n",
              "        buttonEl.style.display =\n",
              "          google.colab.kernel.accessAllowed ? 'block' : 'none';\n",
              "\n",
              "        async function convertToInteractive(key) {\n",
              "          const element = document.querySelector('#df-5d114181-ed78-42ea-a388-8f6a84dc39e1');\n",
              "          const dataTable =\n",
              "            await google.colab.kernel.invokeFunction('convertToInteractive',\n",
              "                                                     [key], {});\n",
              "          if (!dataTable) return;\n",
              "\n",
              "          const docLinkHtml = 'Like what you see? Visit the ' +\n",
              "            '<a target=\"_blank\" href=https://colab.research.google.com/notebooks/data_table.ipynb>data table notebook</a>'\n",
              "            + ' to learn more about interactive tables.';\n",
              "          element.innerHTML = '';\n",
              "          dataTable['output_type'] = 'display_data';\n",
              "          await google.colab.output.renderOutput(dataTable, element);\n",
              "          const docLink = document.createElement('div');\n",
              "          docLink.innerHTML = docLinkHtml;\n",
              "          element.appendChild(docLink);\n",
              "        }\n",
              "      </script>\n",
              "    </div>\n",
              "  </div>\n",
              "  "
            ]
          },
          "metadata": {},
          "execution_count": 6
        }
      ]
    },
    {
      "cell_type": "code",
      "source": [
        "df.shape"
      ],
      "metadata": {
        "colab": {
          "base_uri": "https://localhost:8080/"
        },
        "id": "qLYDb8wtb0AX",
        "outputId": "4769aa7c-91cb-4fc6-9ada-d29b9a783d76"
      },
      "execution_count": null,
      "outputs": [
        {
          "output_type": "execute_result",
          "data": {
            "text/plain": [
              "(140564, 19)"
            ]
          },
          "metadata": {},
          "execution_count": 7
        }
      ]
    },
    {
      "cell_type": "code",
      "source": [
        "df.dtypes"
      ],
      "metadata": {
        "colab": {
          "base_uri": "https://localhost:8080/"
        },
        "id": "ll-KSqNzbz9P",
        "outputId": "495eefb4-64cb-484e-8925-bf258630bf4a"
      },
      "execution_count": null,
      "outputs": [
        {
          "output_type": "execute_result",
          "data": {
            "text/plain": [
              "ARREST_KEY                    int64\n",
              "ARREST_DATE                  object\n",
              "PD_CD                       float64\n",
              "PD_DESC                      object\n",
              "KY_CD                       float64\n",
              "OFNS_DESC                    object\n",
              "LAW_CODE                     object\n",
              "LAW_CAT_CD                   object\n",
              "ARREST_BORO                  object\n",
              "ARREST_PRECINCT               int64\n",
              "JURISDICTION_CODE             int64\n",
              "AGE_GROUP                    object\n",
              "PERP_SEX                     object\n",
              "PERP_RACE                    object\n",
              "X_COORD_CD                    int64\n",
              "Y_COORD_CD                    int64\n",
              "Latitude                    float64\n",
              "Longitude                   float64\n",
              "New Georeferenced Column     object\n",
              "dtype: object"
            ]
          },
          "metadata": {},
          "execution_count": 8
        }
      ]
    },
    {
      "cell_type": "code",
      "source": [
        "df.isnull().sum()"
      ],
      "metadata": {
        "colab": {
          "base_uri": "https://localhost:8080/"
        },
        "id": "hECMonQHbz5_",
        "outputId": "2a37ba25-54bb-49b7-8920-ba1fec651c03"
      },
      "execution_count": null,
      "outputs": [
        {
          "output_type": "execute_result",
          "data": {
            "text/plain": [
              "ARREST_KEY                     0\n",
              "ARREST_DATE                    0\n",
              "PD_CD                        376\n",
              "PD_DESC                        0\n",
              "KY_CD                        379\n",
              "OFNS_DESC                      0\n",
              "LAW_CODE                       0\n",
              "LAW_CAT_CD                  1362\n",
              "ARREST_BORO                    0\n",
              "ARREST_PRECINCT                0\n",
              "JURISDICTION_CODE              0\n",
              "AGE_GROUP                      0\n",
              "PERP_SEX                       0\n",
              "PERP_RACE                      0\n",
              "X_COORD_CD                     0\n",
              "Y_COORD_CD                     0\n",
              "Latitude                       0\n",
              "Longitude                      0\n",
              "New Georeferenced Column       0\n",
              "dtype: int64"
            ]
          },
          "metadata": {},
          "execution_count": 9
        }
      ]
    },
    {
      "cell_type": "code",
      "source": [
        "#Check number of arrests per Borough"
      ],
      "metadata": {
        "id": "m19qwE7YuSzi"
      },
      "execution_count": null,
      "outputs": []
    },
    {
      "cell_type": "code",
      "source": [
        "df['ARREST_BORO'].value_counts(sort=False)"
      ],
      "metadata": {
        "id": "IMk0mxbmbz2m",
        "colab": {
          "base_uri": "https://localhost:8080/"
        },
        "outputId": "a7c1331f-7215-4dea-a835-25ddebfebc9a"
      },
      "execution_count": null,
      "outputs": [
        {
          "output_type": "execute_result",
          "data": {
            "text/plain": [
              "M    34588\n",
              "Q    29353\n",
              "K    38067\n",
              "B    32309\n",
              "S     6247\n",
              "Name: ARREST_BORO, dtype: int64"
            ]
          },
          "metadata": {},
          "execution_count": 10
        }
      ]
    },
    {
      "cell_type": "code",
      "source": [
        "#rename the Boro"
      ],
      "metadata": {
        "id": "4pmHFCOFuXTZ"
      },
      "execution_count": null,
      "outputs": []
    },
    {
      "cell_type": "code",
      "source": [
        "df['ARREST_BORO'].replace(['M','K','S','Q','B'],['MANHATTAN','BROOKLYN','STATEN ISLAND', 'QUEENS', 'Bronx'],inplace=True)"
      ],
      "metadata": {
        "id": "hAkOmHNvbzzX"
      },
      "execution_count": null,
      "outputs": []
    },
    {
      "cell_type": "code",
      "source": [
        "df['ARREST_BORO'].value_counts(sort=False)"
      ],
      "metadata": {
        "id": "BPo98QACbzsu",
        "colab": {
          "base_uri": "https://localhost:8080/"
        },
        "outputId": "57a0e7dd-2f33-4de8-cb2d-e6c2827fb94d"
      },
      "execution_count": null,
      "outputs": [
        {
          "output_type": "execute_result",
          "data": {
            "text/plain": [
              "MANHATTAN        34588\n",
              "QUEENS           29353\n",
              "BROOKLYN         38067\n",
              "Bronx            32309\n",
              "STATEN ISLAND     6247\n",
              "Name: ARREST_BORO, dtype: int64"
            ]
          },
          "metadata": {},
          "execution_count": 12
        }
      ]
    },
    {
      "cell_type": "code",
      "source": [
        "#Split the Month Day and Year into different variables"
      ],
      "metadata": {
        "id": "5nhkCslcuZV5"
      },
      "execution_count": null,
      "outputs": []
    },
    {
      "cell_type": "code",
      "source": [
        "df[[\"Month\",\"Day\",\"Year_Arrested\"]] = df['ARREST_DATE'].str.split(\"/\",expand=True)"
      ],
      "metadata": {
        "id": "wemlRa67bzmX"
      },
      "execution_count": null,
      "outputs": []
    },
    {
      "cell_type": "code",
      "source": [
        "df.head(5)"
      ],
      "metadata": {
        "id": "dWBzqc-IbzjW",
        "colab": {
          "base_uri": "https://localhost:8080/",
          "height": 508
        },
        "outputId": "221c15f1-690c-444b-ccc5-52bd1b0bb574"
      },
      "execution_count": null,
      "outputs": [
        {
          "output_type": "execute_result",
          "data": {
            "text/plain": [
              "   ARREST_KEY ARREST_DATE  PD_CD                        PD_DESC  KY_CD  \\\n",
              "0   238942621  01/10/2022  101.0                      ASSAULT 3  344.0   \n",
              "1   238980679  01/11/2022  244.0  BURGLARY,UNCLASSIFIED,UNKNOWN  107.0   \n",
              "2   239553009  01/23/2022  464.0                       JOSTLING  230.0   \n",
              "3   239651234  01/25/2022  153.0                         RAPE 3  104.0   \n",
              "4   241524225  03/03/2022  157.0                         RAPE 1  104.0   \n",
              "\n",
              "                      OFNS_DESC    LAW_CODE LAW_CAT_CD ARREST_BORO  \\\n",
              "0  ASSAULT 3 & RELATED OFFENSES  PL 1200001          M   MANHATTAN   \n",
              "1                      BURGLARY  PL 1402000          F      QUEENS   \n",
              "2                      JOSTLING  PL 1652501          M      QUEENS   \n",
              "3                          RAPE  PL 1302503          F    BROOKLYN   \n",
              "4                          RAPE  PL 1303501          F    BROOKLYN   \n",
              "\n",
              "   ARREST_PRECINCT  ...  PERP_SEX PERP_RACE X_COORD_CD Y_COORD_CD   Latitude  \\\n",
              "0                9  ...         M     WHITE     987058     203626  40.725583   \n",
              "1              101  ...         M     WHITE    1052353     159425  40.604001   \n",
              "2              110  ...         M     BLACK    1027679     214505  40.755336   \n",
              "3               71  ...         M     BLACK     998742     181235  40.664121   \n",
              "4               84  ...         M     BLACK     988902     192641  40.695439   \n",
              "\n",
              "   Longitude                    New Georeferenced Column  Month Day  \\\n",
              "0 -73.989869            POINT (-73.98986919 40.72558254)     01  10   \n",
              "1 -73.754742                POINT (-73.754742 40.604001)     01  11   \n",
              "2 -73.843245            POINT (-73.84324519 40.75533648)     01  23   \n",
              "3 -73.947765   POINT (-73.9477648403751 40.664121282631)     01  25   \n",
              "4 -73.983225  POINT (-73.9832253756043 40.6954388081238)     03  03   \n",
              "\n",
              "  Year_Arrested  \n",
              "0          2022  \n",
              "1          2022  \n",
              "2          2022  \n",
              "3          2022  \n",
              "4          2022  \n",
              "\n",
              "[5 rows x 22 columns]"
            ],
            "text/html": [
              "\n",
              "  <div id=\"df-b0a69fea-224d-4f9b-8613-f8b030a8b3ca\">\n",
              "    <div class=\"colab-df-container\">\n",
              "      <div>\n",
              "<style scoped>\n",
              "    .dataframe tbody tr th:only-of-type {\n",
              "        vertical-align: middle;\n",
              "    }\n",
              "\n",
              "    .dataframe tbody tr th {\n",
              "        vertical-align: top;\n",
              "    }\n",
              "\n",
              "    .dataframe thead th {\n",
              "        text-align: right;\n",
              "    }\n",
              "</style>\n",
              "<table border=\"1\" class=\"dataframe\">\n",
              "  <thead>\n",
              "    <tr style=\"text-align: right;\">\n",
              "      <th></th>\n",
              "      <th>ARREST_KEY</th>\n",
              "      <th>ARREST_DATE</th>\n",
              "      <th>PD_CD</th>\n",
              "      <th>PD_DESC</th>\n",
              "      <th>KY_CD</th>\n",
              "      <th>OFNS_DESC</th>\n",
              "      <th>LAW_CODE</th>\n",
              "      <th>LAW_CAT_CD</th>\n",
              "      <th>ARREST_BORO</th>\n",
              "      <th>ARREST_PRECINCT</th>\n",
              "      <th>...</th>\n",
              "      <th>PERP_SEX</th>\n",
              "      <th>PERP_RACE</th>\n",
              "      <th>X_COORD_CD</th>\n",
              "      <th>Y_COORD_CD</th>\n",
              "      <th>Latitude</th>\n",
              "      <th>Longitude</th>\n",
              "      <th>New Georeferenced Column</th>\n",
              "      <th>Month</th>\n",
              "      <th>Day</th>\n",
              "      <th>Year_Arrested</th>\n",
              "    </tr>\n",
              "  </thead>\n",
              "  <tbody>\n",
              "    <tr>\n",
              "      <th>0</th>\n",
              "      <td>238942621</td>\n",
              "      <td>01/10/2022</td>\n",
              "      <td>101.0</td>\n",
              "      <td>ASSAULT 3</td>\n",
              "      <td>344.0</td>\n",
              "      <td>ASSAULT 3 &amp; RELATED OFFENSES</td>\n",
              "      <td>PL 1200001</td>\n",
              "      <td>M</td>\n",
              "      <td>MANHATTAN</td>\n",
              "      <td>9</td>\n",
              "      <td>...</td>\n",
              "      <td>M</td>\n",
              "      <td>WHITE</td>\n",
              "      <td>987058</td>\n",
              "      <td>203626</td>\n",
              "      <td>40.725583</td>\n",
              "      <td>-73.989869</td>\n",
              "      <td>POINT (-73.98986919 40.72558254)</td>\n",
              "      <td>01</td>\n",
              "      <td>10</td>\n",
              "      <td>2022</td>\n",
              "    </tr>\n",
              "    <tr>\n",
              "      <th>1</th>\n",
              "      <td>238980679</td>\n",
              "      <td>01/11/2022</td>\n",
              "      <td>244.0</td>\n",
              "      <td>BURGLARY,UNCLASSIFIED,UNKNOWN</td>\n",
              "      <td>107.0</td>\n",
              "      <td>BURGLARY</td>\n",
              "      <td>PL 1402000</td>\n",
              "      <td>F</td>\n",
              "      <td>QUEENS</td>\n",
              "      <td>101</td>\n",
              "      <td>...</td>\n",
              "      <td>M</td>\n",
              "      <td>WHITE</td>\n",
              "      <td>1052353</td>\n",
              "      <td>159425</td>\n",
              "      <td>40.604001</td>\n",
              "      <td>-73.754742</td>\n",
              "      <td>POINT (-73.754742 40.604001)</td>\n",
              "      <td>01</td>\n",
              "      <td>11</td>\n",
              "      <td>2022</td>\n",
              "    </tr>\n",
              "    <tr>\n",
              "      <th>2</th>\n",
              "      <td>239553009</td>\n",
              "      <td>01/23/2022</td>\n",
              "      <td>464.0</td>\n",
              "      <td>JOSTLING</td>\n",
              "      <td>230.0</td>\n",
              "      <td>JOSTLING</td>\n",
              "      <td>PL 1652501</td>\n",
              "      <td>M</td>\n",
              "      <td>QUEENS</td>\n",
              "      <td>110</td>\n",
              "      <td>...</td>\n",
              "      <td>M</td>\n",
              "      <td>BLACK</td>\n",
              "      <td>1027679</td>\n",
              "      <td>214505</td>\n",
              "      <td>40.755336</td>\n",
              "      <td>-73.843245</td>\n",
              "      <td>POINT (-73.84324519 40.75533648)</td>\n",
              "      <td>01</td>\n",
              "      <td>23</td>\n",
              "      <td>2022</td>\n",
              "    </tr>\n",
              "    <tr>\n",
              "      <th>3</th>\n",
              "      <td>239651234</td>\n",
              "      <td>01/25/2022</td>\n",
              "      <td>153.0</td>\n",
              "      <td>RAPE 3</td>\n",
              "      <td>104.0</td>\n",
              "      <td>RAPE</td>\n",
              "      <td>PL 1302503</td>\n",
              "      <td>F</td>\n",
              "      <td>BROOKLYN</td>\n",
              "      <td>71</td>\n",
              "      <td>...</td>\n",
              "      <td>M</td>\n",
              "      <td>BLACK</td>\n",
              "      <td>998742</td>\n",
              "      <td>181235</td>\n",
              "      <td>40.664121</td>\n",
              "      <td>-73.947765</td>\n",
              "      <td>POINT (-73.9477648403751 40.664121282631)</td>\n",
              "      <td>01</td>\n",
              "      <td>25</td>\n",
              "      <td>2022</td>\n",
              "    </tr>\n",
              "    <tr>\n",
              "      <th>4</th>\n",
              "      <td>241524225</td>\n",
              "      <td>03/03/2022</td>\n",
              "      <td>157.0</td>\n",
              "      <td>RAPE 1</td>\n",
              "      <td>104.0</td>\n",
              "      <td>RAPE</td>\n",
              "      <td>PL 1303501</td>\n",
              "      <td>F</td>\n",
              "      <td>BROOKLYN</td>\n",
              "      <td>84</td>\n",
              "      <td>...</td>\n",
              "      <td>M</td>\n",
              "      <td>BLACK</td>\n",
              "      <td>988902</td>\n",
              "      <td>192641</td>\n",
              "      <td>40.695439</td>\n",
              "      <td>-73.983225</td>\n",
              "      <td>POINT (-73.9832253756043 40.6954388081238)</td>\n",
              "      <td>03</td>\n",
              "      <td>03</td>\n",
              "      <td>2022</td>\n",
              "    </tr>\n",
              "  </tbody>\n",
              "</table>\n",
              "<p>5 rows × 22 columns</p>\n",
              "</div>\n",
              "      <button class=\"colab-df-convert\" onclick=\"convertToInteractive('df-b0a69fea-224d-4f9b-8613-f8b030a8b3ca')\"\n",
              "              title=\"Convert this dataframe to an interactive table.\"\n",
              "              style=\"display:none;\">\n",
              "        \n",
              "  <svg xmlns=\"http://www.w3.org/2000/svg\" height=\"24px\"viewBox=\"0 0 24 24\"\n",
              "       width=\"24px\">\n",
              "    <path d=\"M0 0h24v24H0V0z\" fill=\"none\"/>\n",
              "    <path d=\"M18.56 5.44l.94 2.06.94-2.06 2.06-.94-2.06-.94-.94-2.06-.94 2.06-2.06.94zm-11 1L8.5 8.5l.94-2.06 2.06-.94-2.06-.94L8.5 2.5l-.94 2.06-2.06.94zm10 10l.94 2.06.94-2.06 2.06-.94-2.06-.94-.94-2.06-.94 2.06-2.06.94z\"/><path d=\"M17.41 7.96l-1.37-1.37c-.4-.4-.92-.59-1.43-.59-.52 0-1.04.2-1.43.59L10.3 9.45l-7.72 7.72c-.78.78-.78 2.05 0 2.83L4 21.41c.39.39.9.59 1.41.59.51 0 1.02-.2 1.41-.59l7.78-7.78 2.81-2.81c.8-.78.8-2.07 0-2.86zM5.41 20L4 18.59l7.72-7.72 1.47 1.35L5.41 20z\"/>\n",
              "  </svg>\n",
              "      </button>\n",
              "      \n",
              "  <style>\n",
              "    .colab-df-container {\n",
              "      display:flex;\n",
              "      flex-wrap:wrap;\n",
              "      gap: 12px;\n",
              "    }\n",
              "\n",
              "    .colab-df-convert {\n",
              "      background-color: #E8F0FE;\n",
              "      border: none;\n",
              "      border-radius: 50%;\n",
              "      cursor: pointer;\n",
              "      display: none;\n",
              "      fill: #1967D2;\n",
              "      height: 32px;\n",
              "      padding: 0 0 0 0;\n",
              "      width: 32px;\n",
              "    }\n",
              "\n",
              "    .colab-df-convert:hover {\n",
              "      background-color: #E2EBFA;\n",
              "      box-shadow: 0px 1px 2px rgba(60, 64, 67, 0.3), 0px 1px 3px 1px rgba(60, 64, 67, 0.15);\n",
              "      fill: #174EA6;\n",
              "    }\n",
              "\n",
              "    [theme=dark] .colab-df-convert {\n",
              "      background-color: #3B4455;\n",
              "      fill: #D2E3FC;\n",
              "    }\n",
              "\n",
              "    [theme=dark] .colab-df-convert:hover {\n",
              "      background-color: #434B5C;\n",
              "      box-shadow: 0px 1px 3px 1px rgba(0, 0, 0, 0.15);\n",
              "      filter: drop-shadow(0px 1px 2px rgba(0, 0, 0, 0.3));\n",
              "      fill: #FFFFFF;\n",
              "    }\n",
              "  </style>\n",
              "\n",
              "      <script>\n",
              "        const buttonEl =\n",
              "          document.querySelector('#df-b0a69fea-224d-4f9b-8613-f8b030a8b3ca button.colab-df-convert');\n",
              "        buttonEl.style.display =\n",
              "          google.colab.kernel.accessAllowed ? 'block' : 'none';\n",
              "\n",
              "        async function convertToInteractive(key) {\n",
              "          const element = document.querySelector('#df-b0a69fea-224d-4f9b-8613-f8b030a8b3ca');\n",
              "          const dataTable =\n",
              "            await google.colab.kernel.invokeFunction('convertToInteractive',\n",
              "                                                     [key], {});\n",
              "          if (!dataTable) return;\n",
              "\n",
              "          const docLinkHtml = 'Like what you see? Visit the ' +\n",
              "            '<a target=\"_blank\" href=https://colab.research.google.com/notebooks/data_table.ipynb>data table notebook</a>'\n",
              "            + ' to learn more about interactive tables.';\n",
              "          element.innerHTML = '';\n",
              "          dataTable['output_type'] = 'display_data';\n",
              "          await google.colab.output.renderOutput(dataTable, element);\n",
              "          const docLink = document.createElement('div');\n",
              "          docLink.innerHTML = docLinkHtml;\n",
              "          element.appendChild(docLink);\n",
              "        }\n",
              "      </script>\n",
              "    </div>\n",
              "  </div>\n",
              "  "
            ]
          },
          "metadata": {},
          "execution_count": 14
        }
      ]
    },
    {
      "cell_type": "code",
      "source": [
        "#counts by month"
      ],
      "metadata": {
        "id": "e6MxhgGIueCZ"
      },
      "execution_count": null,
      "outputs": []
    },
    {
      "cell_type": "code",
      "source": [
        "df['Month'].value_counts()"
      ],
      "metadata": {
        "id": "0biEo2aPbzgn",
        "colab": {
          "base_uri": "https://localhost:8080/"
        },
        "outputId": "905644b9-f1b1-458d-b572-6dde73c729b2"
      },
      "execution_count": null,
      "outputs": [
        {
          "output_type": "execute_result",
          "data": {
            "text/plain": [
              "03    16940\n",
              "05    16552\n",
              "06    16403\n",
              "04    16079\n",
              "09    15804\n",
              "07    15792\n",
              "08    15734\n",
              "02    14070\n",
              "01    13190\n",
              "Name: Month, dtype: int64"
            ]
          },
          "metadata": {},
          "execution_count": 15
        }
      ]
    },
    {
      "cell_type": "code",
      "source": [
        "#Check Column Names"
      ],
      "metadata": {
        "id": "OTr4s-mtugo5"
      },
      "execution_count": null,
      "outputs": []
    },
    {
      "cell_type": "code",
      "source": [
        "df.columns"
      ],
      "metadata": {
        "id": "h9K-CA-Lbzdm",
        "colab": {
          "base_uri": "https://localhost:8080/"
        },
        "outputId": "ce8ff0a8-a1e1-4d2f-95d0-468c72dbf06a"
      },
      "execution_count": null,
      "outputs": [
        {
          "output_type": "execute_result",
          "data": {
            "text/plain": [
              "Index(['ARREST_KEY', 'ARREST_DATE', 'PD_CD', 'PD_DESC', 'KY_CD', 'OFNS_DESC',\n",
              "       'LAW_CODE', 'LAW_CAT_CD', 'ARREST_BORO', 'ARREST_PRECINCT',\n",
              "       'JURISDICTION_CODE', 'AGE_GROUP', 'PERP_SEX', 'PERP_RACE', 'X_COORD_CD',\n",
              "       'Y_COORD_CD', 'Latitude', 'Longitude', 'New Georeferenced Column',\n",
              "       'Month', 'Day', 'Year_Arrested'],\n",
              "      dtype='object')"
            ]
          },
          "metadata": {},
          "execution_count": 16
        }
      ]
    },
    {
      "cell_type": "code",
      "source": [
        "#Create new set with just variables needed for analysis"
      ],
      "metadata": {
        "id": "qtepjLN3uicJ"
      },
      "execution_count": null,
      "outputs": []
    },
    {
      "cell_type": "code",
      "source": [
        "df2 = df[['ARREST_KEY','Month','AGE_GROUP','PERP_SEX','PERP_RACE','OFNS_DESC', 'ARREST_BORO', 'LAW_CAT_CD']]"
      ],
      "metadata": {
        "id": "zoa0scGjLBGo"
      },
      "execution_count": null,
      "outputs": []
    },
    {
      "cell_type": "code",
      "source": [
        "df2.head(20)"
      ],
      "metadata": {
        "colab": {
          "base_uri": "https://localhost:8080/",
          "height": 677
        },
        "id": "JUWSt9t4LBDZ",
        "outputId": "20a86685-d08f-4755-b619-6d335a09654d"
      },
      "execution_count": null,
      "outputs": [
        {
          "output_type": "execute_result",
          "data": {
            "text/plain": [
              "    ARREST_KEY Month AGE_GROUP PERP_SEX       PERP_RACE  \\\n",
              "0    238942621    01     18-24        M           WHITE   \n",
              "1    238980679    01     25-44        M           WHITE   \n",
              "2    239553009    01     25-44        M           BLACK   \n",
              "3    239651234    01     25-44        M           BLACK   \n",
              "4    241524225    03     18-24        M           BLACK   \n",
              "5    241038267    02     45-64        M           BLACK   \n",
              "6    240817075    02       <18        M           BLACK   \n",
              "7    241020842    02     25-44        M           BLACK   \n",
              "8    241455354    03     45-64        M           BLACK   \n",
              "9    242619627    03     25-44        M           BLACK   \n",
              "10   242064330    03     25-44        M           BLACK   \n",
              "11   242479143    03     45-64        M           BLACK   \n",
              "12   243994388    04     25-44        M           BLACK   \n",
              "13   244102403    04     25-44        M           BLACK   \n",
              "14   244769471    05     18-24        F           BLACK   \n",
              "15   244685468    05     18-24        M  WHITE HISPANIC   \n",
              "16   245645876    05       <18        M  WHITE HISPANIC   \n",
              "17   245666690    05     45-64        M           BLACK   \n",
              "18   246374601    06     25-44        F           BLACK   \n",
              "19   246856453    06     25-44        M           BLACK   \n",
              "\n",
              "                       OFNS_DESC ARREST_BORO LAW_CAT_CD  \n",
              "0   ASSAULT 3 & RELATED OFFENSES   MANHATTAN          M  \n",
              "1                       BURGLARY      QUEENS          F  \n",
              "2                       JOSTLING      QUEENS          M  \n",
              "3                           RAPE    BROOKLYN          F  \n",
              "4                           RAPE    BROOKLYN          F  \n",
              "5                           RAPE       Bronx          F  \n",
              "6                     SEX CRIMES    BROOKLYN          M  \n",
              "7                         (null)      QUEENS          9  \n",
              "8                 FELONY ASSAULT    BROOKLYN          F  \n",
              "9                       BURGLARY       Bronx          F  \n",
              "10  ASSAULT 3 & RELATED OFFENSES    BROOKLYN          M  \n",
              "11                          RAPE       Bronx          F  \n",
              "12                          RAPE    BROOKLYN          F  \n",
              "13             DANGEROUS WEAPONS    BROOKLYN          F  \n",
              "14                         ARSON    BROOKLYN          F  \n",
              "15                        (null)   MANHATTAN          9  \n",
              "16                    SEX CRIMES      QUEENS          F  \n",
              "17                          RAPE      QUEENS          F  \n",
              "18                       ROBBERY       Bronx          F  \n",
              "19                          RAPE       Bronx          F  "
            ],
            "text/html": [
              "\n",
              "  <div id=\"df-04c847e5-5bea-4ead-bdfa-c79ae3be294f\">\n",
              "    <div class=\"colab-df-container\">\n",
              "      <div>\n",
              "<style scoped>\n",
              "    .dataframe tbody tr th:only-of-type {\n",
              "        vertical-align: middle;\n",
              "    }\n",
              "\n",
              "    .dataframe tbody tr th {\n",
              "        vertical-align: top;\n",
              "    }\n",
              "\n",
              "    .dataframe thead th {\n",
              "        text-align: right;\n",
              "    }\n",
              "</style>\n",
              "<table border=\"1\" class=\"dataframe\">\n",
              "  <thead>\n",
              "    <tr style=\"text-align: right;\">\n",
              "      <th></th>\n",
              "      <th>ARREST_KEY</th>\n",
              "      <th>Month</th>\n",
              "      <th>AGE_GROUP</th>\n",
              "      <th>PERP_SEX</th>\n",
              "      <th>PERP_RACE</th>\n",
              "      <th>OFNS_DESC</th>\n",
              "      <th>ARREST_BORO</th>\n",
              "      <th>LAW_CAT_CD</th>\n",
              "    </tr>\n",
              "  </thead>\n",
              "  <tbody>\n",
              "    <tr>\n",
              "      <th>0</th>\n",
              "      <td>238942621</td>\n",
              "      <td>01</td>\n",
              "      <td>18-24</td>\n",
              "      <td>M</td>\n",
              "      <td>WHITE</td>\n",
              "      <td>ASSAULT 3 &amp; RELATED OFFENSES</td>\n",
              "      <td>MANHATTAN</td>\n",
              "      <td>M</td>\n",
              "    </tr>\n",
              "    <tr>\n",
              "      <th>1</th>\n",
              "      <td>238980679</td>\n",
              "      <td>01</td>\n",
              "      <td>25-44</td>\n",
              "      <td>M</td>\n",
              "      <td>WHITE</td>\n",
              "      <td>BURGLARY</td>\n",
              "      <td>QUEENS</td>\n",
              "      <td>F</td>\n",
              "    </tr>\n",
              "    <tr>\n",
              "      <th>2</th>\n",
              "      <td>239553009</td>\n",
              "      <td>01</td>\n",
              "      <td>25-44</td>\n",
              "      <td>M</td>\n",
              "      <td>BLACK</td>\n",
              "      <td>JOSTLING</td>\n",
              "      <td>QUEENS</td>\n",
              "      <td>M</td>\n",
              "    </tr>\n",
              "    <tr>\n",
              "      <th>3</th>\n",
              "      <td>239651234</td>\n",
              "      <td>01</td>\n",
              "      <td>25-44</td>\n",
              "      <td>M</td>\n",
              "      <td>BLACK</td>\n",
              "      <td>RAPE</td>\n",
              "      <td>BROOKLYN</td>\n",
              "      <td>F</td>\n",
              "    </tr>\n",
              "    <tr>\n",
              "      <th>4</th>\n",
              "      <td>241524225</td>\n",
              "      <td>03</td>\n",
              "      <td>18-24</td>\n",
              "      <td>M</td>\n",
              "      <td>BLACK</td>\n",
              "      <td>RAPE</td>\n",
              "      <td>BROOKLYN</td>\n",
              "      <td>F</td>\n",
              "    </tr>\n",
              "    <tr>\n",
              "      <th>5</th>\n",
              "      <td>241038267</td>\n",
              "      <td>02</td>\n",
              "      <td>45-64</td>\n",
              "      <td>M</td>\n",
              "      <td>BLACK</td>\n",
              "      <td>RAPE</td>\n",
              "      <td>Bronx</td>\n",
              "      <td>F</td>\n",
              "    </tr>\n",
              "    <tr>\n",
              "      <th>6</th>\n",
              "      <td>240817075</td>\n",
              "      <td>02</td>\n",
              "      <td>&lt;18</td>\n",
              "      <td>M</td>\n",
              "      <td>BLACK</td>\n",
              "      <td>SEX CRIMES</td>\n",
              "      <td>BROOKLYN</td>\n",
              "      <td>M</td>\n",
              "    </tr>\n",
              "    <tr>\n",
              "      <th>7</th>\n",
              "      <td>241020842</td>\n",
              "      <td>02</td>\n",
              "      <td>25-44</td>\n",
              "      <td>M</td>\n",
              "      <td>BLACK</td>\n",
              "      <td>(null)</td>\n",
              "      <td>QUEENS</td>\n",
              "      <td>9</td>\n",
              "    </tr>\n",
              "    <tr>\n",
              "      <th>8</th>\n",
              "      <td>241455354</td>\n",
              "      <td>03</td>\n",
              "      <td>45-64</td>\n",
              "      <td>M</td>\n",
              "      <td>BLACK</td>\n",
              "      <td>FELONY ASSAULT</td>\n",
              "      <td>BROOKLYN</td>\n",
              "      <td>F</td>\n",
              "    </tr>\n",
              "    <tr>\n",
              "      <th>9</th>\n",
              "      <td>242619627</td>\n",
              "      <td>03</td>\n",
              "      <td>25-44</td>\n",
              "      <td>M</td>\n",
              "      <td>BLACK</td>\n",
              "      <td>BURGLARY</td>\n",
              "      <td>Bronx</td>\n",
              "      <td>F</td>\n",
              "    </tr>\n",
              "    <tr>\n",
              "      <th>10</th>\n",
              "      <td>242064330</td>\n",
              "      <td>03</td>\n",
              "      <td>25-44</td>\n",
              "      <td>M</td>\n",
              "      <td>BLACK</td>\n",
              "      <td>ASSAULT 3 &amp; RELATED OFFENSES</td>\n",
              "      <td>BROOKLYN</td>\n",
              "      <td>M</td>\n",
              "    </tr>\n",
              "    <tr>\n",
              "      <th>11</th>\n",
              "      <td>242479143</td>\n",
              "      <td>03</td>\n",
              "      <td>45-64</td>\n",
              "      <td>M</td>\n",
              "      <td>BLACK</td>\n",
              "      <td>RAPE</td>\n",
              "      <td>Bronx</td>\n",
              "      <td>F</td>\n",
              "    </tr>\n",
              "    <tr>\n",
              "      <th>12</th>\n",
              "      <td>243994388</td>\n",
              "      <td>04</td>\n",
              "      <td>25-44</td>\n",
              "      <td>M</td>\n",
              "      <td>BLACK</td>\n",
              "      <td>RAPE</td>\n",
              "      <td>BROOKLYN</td>\n",
              "      <td>F</td>\n",
              "    </tr>\n",
              "    <tr>\n",
              "      <th>13</th>\n",
              "      <td>244102403</td>\n",
              "      <td>04</td>\n",
              "      <td>25-44</td>\n",
              "      <td>M</td>\n",
              "      <td>BLACK</td>\n",
              "      <td>DANGEROUS WEAPONS</td>\n",
              "      <td>BROOKLYN</td>\n",
              "      <td>F</td>\n",
              "    </tr>\n",
              "    <tr>\n",
              "      <th>14</th>\n",
              "      <td>244769471</td>\n",
              "      <td>05</td>\n",
              "      <td>18-24</td>\n",
              "      <td>F</td>\n",
              "      <td>BLACK</td>\n",
              "      <td>ARSON</td>\n",
              "      <td>BROOKLYN</td>\n",
              "      <td>F</td>\n",
              "    </tr>\n",
              "    <tr>\n",
              "      <th>15</th>\n",
              "      <td>244685468</td>\n",
              "      <td>05</td>\n",
              "      <td>18-24</td>\n",
              "      <td>M</td>\n",
              "      <td>WHITE HISPANIC</td>\n",
              "      <td>(null)</td>\n",
              "      <td>MANHATTAN</td>\n",
              "      <td>9</td>\n",
              "    </tr>\n",
              "    <tr>\n",
              "      <th>16</th>\n",
              "      <td>245645876</td>\n",
              "      <td>05</td>\n",
              "      <td>&lt;18</td>\n",
              "      <td>M</td>\n",
              "      <td>WHITE HISPANIC</td>\n",
              "      <td>SEX CRIMES</td>\n",
              "      <td>QUEENS</td>\n",
              "      <td>F</td>\n",
              "    </tr>\n",
              "    <tr>\n",
              "      <th>17</th>\n",
              "      <td>245666690</td>\n",
              "      <td>05</td>\n",
              "      <td>45-64</td>\n",
              "      <td>M</td>\n",
              "      <td>BLACK</td>\n",
              "      <td>RAPE</td>\n",
              "      <td>QUEENS</td>\n",
              "      <td>F</td>\n",
              "    </tr>\n",
              "    <tr>\n",
              "      <th>18</th>\n",
              "      <td>246374601</td>\n",
              "      <td>06</td>\n",
              "      <td>25-44</td>\n",
              "      <td>F</td>\n",
              "      <td>BLACK</td>\n",
              "      <td>ROBBERY</td>\n",
              "      <td>Bronx</td>\n",
              "      <td>F</td>\n",
              "    </tr>\n",
              "    <tr>\n",
              "      <th>19</th>\n",
              "      <td>246856453</td>\n",
              "      <td>06</td>\n",
              "      <td>25-44</td>\n",
              "      <td>M</td>\n",
              "      <td>BLACK</td>\n",
              "      <td>RAPE</td>\n",
              "      <td>Bronx</td>\n",
              "      <td>F</td>\n",
              "    </tr>\n",
              "  </tbody>\n",
              "</table>\n",
              "</div>\n",
              "      <button class=\"colab-df-convert\" onclick=\"convertToInteractive('df-04c847e5-5bea-4ead-bdfa-c79ae3be294f')\"\n",
              "              title=\"Convert this dataframe to an interactive table.\"\n",
              "              style=\"display:none;\">\n",
              "        \n",
              "  <svg xmlns=\"http://www.w3.org/2000/svg\" height=\"24px\"viewBox=\"0 0 24 24\"\n",
              "       width=\"24px\">\n",
              "    <path d=\"M0 0h24v24H0V0z\" fill=\"none\"/>\n",
              "    <path d=\"M18.56 5.44l.94 2.06.94-2.06 2.06-.94-2.06-.94-.94-2.06-.94 2.06-2.06.94zm-11 1L8.5 8.5l.94-2.06 2.06-.94-2.06-.94L8.5 2.5l-.94 2.06-2.06.94zm10 10l.94 2.06.94-2.06 2.06-.94-2.06-.94-.94-2.06-.94 2.06-2.06.94z\"/><path d=\"M17.41 7.96l-1.37-1.37c-.4-.4-.92-.59-1.43-.59-.52 0-1.04.2-1.43.59L10.3 9.45l-7.72 7.72c-.78.78-.78 2.05 0 2.83L4 21.41c.39.39.9.59 1.41.59.51 0 1.02-.2 1.41-.59l7.78-7.78 2.81-2.81c.8-.78.8-2.07 0-2.86zM5.41 20L4 18.59l7.72-7.72 1.47 1.35L5.41 20z\"/>\n",
              "  </svg>\n",
              "      </button>\n",
              "      \n",
              "  <style>\n",
              "    .colab-df-container {\n",
              "      display:flex;\n",
              "      flex-wrap:wrap;\n",
              "      gap: 12px;\n",
              "    }\n",
              "\n",
              "    .colab-df-convert {\n",
              "      background-color: #E8F0FE;\n",
              "      border: none;\n",
              "      border-radius: 50%;\n",
              "      cursor: pointer;\n",
              "      display: none;\n",
              "      fill: #1967D2;\n",
              "      height: 32px;\n",
              "      padding: 0 0 0 0;\n",
              "      width: 32px;\n",
              "    }\n",
              "\n",
              "    .colab-df-convert:hover {\n",
              "      background-color: #E2EBFA;\n",
              "      box-shadow: 0px 1px 2px rgba(60, 64, 67, 0.3), 0px 1px 3px 1px rgba(60, 64, 67, 0.15);\n",
              "      fill: #174EA6;\n",
              "    }\n",
              "\n",
              "    [theme=dark] .colab-df-convert {\n",
              "      background-color: #3B4455;\n",
              "      fill: #D2E3FC;\n",
              "    }\n",
              "\n",
              "    [theme=dark] .colab-df-convert:hover {\n",
              "      background-color: #434B5C;\n",
              "      box-shadow: 0px 1px 3px 1px rgba(0, 0, 0, 0.15);\n",
              "      filter: drop-shadow(0px 1px 2px rgba(0, 0, 0, 0.3));\n",
              "      fill: #FFFFFF;\n",
              "    }\n",
              "  </style>\n",
              "\n",
              "      <script>\n",
              "        const buttonEl =\n",
              "          document.querySelector('#df-04c847e5-5bea-4ead-bdfa-c79ae3be294f button.colab-df-convert');\n",
              "        buttonEl.style.display =\n",
              "          google.colab.kernel.accessAllowed ? 'block' : 'none';\n",
              "\n",
              "        async function convertToInteractive(key) {\n",
              "          const element = document.querySelector('#df-04c847e5-5bea-4ead-bdfa-c79ae3be294f');\n",
              "          const dataTable =\n",
              "            await google.colab.kernel.invokeFunction('convertToInteractive',\n",
              "                                                     [key], {});\n",
              "          if (!dataTable) return;\n",
              "\n",
              "          const docLinkHtml = 'Like what you see? Visit the ' +\n",
              "            '<a target=\"_blank\" href=https://colab.research.google.com/notebooks/data_table.ipynb>data table notebook</a>'\n",
              "            + ' to learn more about interactive tables.';\n",
              "          element.innerHTML = '';\n",
              "          dataTable['output_type'] = 'display_data';\n",
              "          await google.colab.output.renderOutput(dataTable, element);\n",
              "          const docLink = document.createElement('div');\n",
              "          docLink.innerHTML = docLinkHtml;\n",
              "          element.appendChild(docLink);\n",
              "        }\n",
              "      </script>\n",
              "    </div>\n",
              "  </div>\n",
              "  "
            ]
          },
          "metadata": {},
          "execution_count": 18
        }
      ]
    },
    {
      "cell_type": "code",
      "source": [
        "#Check offenses"
      ],
      "metadata": {
        "id": "k3KPeZ9Run_5"
      },
      "execution_count": null,
      "outputs": []
    },
    {
      "cell_type": "code",
      "source": [
        "df2['OFNS_DESC'].value_counts()"
      ],
      "metadata": {
        "colab": {
          "base_uri": "https://localhost:8080/"
        },
        "id": "vq3VNru9LBAZ",
        "outputId": "43e2b286-e4eb-45eb-b31f-2ea022f99084"
      },
      "execution_count": null,
      "outputs": [
        {
          "output_type": "execute_result",
          "data": {
            "text/plain": [
              "ASSAULT 3 & RELATED OFFENSES      23188\n",
              "PETIT LARCENY                     15288\n",
              "FELONY ASSAULT                    14190\n",
              "MISCELLANEOUS PENAL LAW            9327\n",
              "CRIMINAL MISCHIEF & RELATED OF     7717\n",
              "                                  ...  \n",
              "NEW YORK CITY HEALTH CODE             2\n",
              "PARKING OFFENSES                      2\n",
              "UNLAWFUL POSS. WEAP. ON SCHOOL        1\n",
              "ADMINISTRATIVE CODES                  1\n",
              "DISRUPTION OF A RELIGIOUS SERV        1\n",
              "Name: OFNS_DESC, Length: 65, dtype: int64"
            ]
          },
          "metadata": {},
          "execution_count": 19
        }
      ]
    },
    {
      "cell_type": "code",
      "source": [
        "#Create new set with only Felonies"
      ],
      "metadata": {
        "id": "1kHsIXvVup8R"
      },
      "execution_count": null,
      "outputs": []
    },
    {
      "cell_type": "code",
      "source": [
        "df3 = df2[(df2['LAW_CAT_CD'] == 'F')]"
      ],
      "metadata": {
        "id": "MOUxLXZwVVq2"
      },
      "execution_count": null,
      "outputs": []
    },
    {
      "cell_type": "code",
      "source": [
        "#Create new set with top three felony offenses"
      ],
      "metadata": {
        "id": "pMl-xdRHusnB"
      },
      "execution_count": null,
      "outputs": []
    },
    {
      "cell_type": "code",
      "source": [
        "df4 = df3[df3['OFNS_DESC'].isin (['FELONY ASSAULT','ROBBERY', 'GRAND LARCENY'])]"
      ],
      "metadata": {
        "id": "jfqsITp0XAGG"
      },
      "execution_count": null,
      "outputs": []
    },
    {
      "cell_type": "code",
      "source": [
        "df4.head()"
      ],
      "metadata": {
        "id": "uqmK8z8tV4tf"
      },
      "execution_count": null,
      "outputs": []
    },
    {
      "cell_type": "code",
      "source": [
        "#Check counts by month"
      ],
      "metadata": {
        "id": "OW6Gv-3UuxDB"
      },
      "execution_count": null,
      "outputs": []
    },
    {
      "cell_type": "code",
      "source": [
        "df4['Month'].value_counts()"
      ],
      "metadata": {
        "colab": {
          "base_uri": "https://localhost:8080/"
        },
        "id": "Wg0TKzdVLA3g",
        "outputId": "5af1bcc0-b139-492d-83f5-e4b9d1798a63"
      },
      "execution_count": null,
      "outputs": [
        {
          "output_type": "execute_result",
          "data": {
            "text/plain": [
              "09    3422\n",
              "06    3336\n",
              "08    3296\n",
              "07    3215\n",
              "05    3207\n",
              "03    3107\n",
              "04    3000\n",
              "02    2728\n",
              "01    2621\n",
              "Name: Month, dtype: int64"
            ]
          },
          "metadata": {},
          "execution_count": 23
        }
      ]
    },
    {
      "cell_type": "code",
      "source": [
        "#Check offense counts by three of the felony types"
      ],
      "metadata": {
        "id": "z2xhuIjsuz2J"
      },
      "execution_count": null,
      "outputs": []
    },
    {
      "cell_type": "code",
      "source": [
        "df4['OFNS_DESC'].value_counts()"
      ],
      "metadata": {
        "colab": {
          "base_uri": "https://localhost:8080/"
        },
        "id": "1k1Xl7vrTyqH",
        "outputId": "5e81666a-8d7f-4153-ac55-e02215cde087"
      },
      "execution_count": null,
      "outputs": [
        {
          "output_type": "execute_result",
          "data": {
            "text/plain": [
              "FELONY ASSAULT    14190\n",
              "ROBBERY            7310\n",
              "GRAND LARCENY      6432\n",
              "Name: OFNS_DESC, dtype: int64"
            ]
          },
          "metadata": {},
          "execution_count": 24
        }
      ]
    },
    {
      "cell_type": "code",
      "source": [
        "#Check number arrests per boro by month"
      ],
      "metadata": {
        "id": "CV2BOeRxu7IZ"
      },
      "execution_count": null,
      "outputs": []
    },
    {
      "cell_type": "code",
      "source": [
        "df4.c"
      ],
      "metadata": {
        "colab": {
          "base_uri": "https://localhost:8080/"
        },
        "id": "fb8eEvH1LA00",
        "outputId": "feafce57-c14b-4f03-cfb7-bf8597140d83"
      },
      "execution_count": null,
      "outputs": [
        {
          "output_type": "execute_result",
          "data": {
            "text/plain": [
              "Month  ARREST_BORO  \n",
              "01     BROOKLYN          759\n",
              "       Bronx             585\n",
              "       MANHATTAN         641\n",
              "       QUEENS            551\n",
              "       STATEN ISLAND      85\n",
              "02     BROOKLYN          721\n",
              "       Bronx             655\n",
              "       MANHATTAN         711\n",
              "       QUEENS            561\n",
              "       STATEN ISLAND      80\n",
              "03     BROOKLYN          879\n",
              "       Bronx             725\n",
              "       MANHATTAN         824\n",
              "       QUEENS            571\n",
              "       STATEN ISLAND     108\n",
              "04     BROOKLYN          816\n",
              "       Bronx             665\n",
              "       MANHATTAN         828\n",
              "       QUEENS            597\n",
              "       STATEN ISLAND      94\n",
              "05     BROOKLYN          830\n",
              "       Bronx             707\n",
              "       MANHATTAN         906\n",
              "       QUEENS            653\n",
              "       STATEN ISLAND     111\n",
              "06     BROOKLYN          844\n",
              "       Bronx             815\n",
              "       MANHATTAN         839\n",
              "       QUEENS            712\n",
              "       STATEN ISLAND     126\n",
              "07     BROOKLYN          875\n",
              "       Bronx             738\n",
              "       MANHATTAN         837\n",
              "       QUEENS            687\n",
              "       STATEN ISLAND      78\n",
              "08     BROOKLYN          902\n",
              "       Bronx             744\n",
              "       MANHATTAN         895\n",
              "       QUEENS            630\n",
              "       STATEN ISLAND     125\n",
              "09     BROOKLYN         1012\n",
              "       Bronx             774\n",
              "       MANHATTAN         882\n",
              "       QUEENS            652\n",
              "       STATEN ISLAND     102\n",
              "Name: ARREST_KEY, dtype: int64"
            ]
          },
          "metadata": {},
          "execution_count": 25
        }
      ]
    },
    {
      "cell_type": "code",
      "source": [
        "#Create a variable and include all variables"
      ],
      "metadata": {
        "id": "s4kJFzOnvDlh"
      },
      "execution_count": null,
      "outputs": []
    },
    {
      "cell_type": "code",
      "source": [
        "categorical_col= ['Month','AGE_GROUP','PERP_SEX','PERP_RACE','OFNS_DESC', 'ARREST_BORO', 'LAW_CAT_CD']"
      ],
      "metadata": {
        "id": "PxcDIo7yLAuJ"
      },
      "execution_count": null,
      "outputs": []
    },
    {
      "cell_type": "code",
      "source": [
        "print(categorical_col)"
      ],
      "metadata": {
        "colab": {
          "base_uri": "https://localhost:8080/"
        },
        "id": "Px7JpmlQRXA2",
        "outputId": "c4ab90dc-c6cb-4adf-dcfb-f843bc314ece"
      },
      "execution_count": null,
      "outputs": [
        {
          "output_type": "stream",
          "name": "stdout",
          "text": [
            "['Month', 'AGE_GROUP', 'PERP_SEX', 'PERP_RACE', 'OFNS_DESC', 'ARREST_BORO', 'LAW_CAT_CD']\n"
          ]
        }
      ]
    },
    {
      "cell_type": "code",
      "source": [
        "#Create a contingency table for all months and offenses"
      ],
      "metadata": {
        "id": "Bz8eFRqpvS95"
      },
      "execution_count": null,
      "outputs": []
    },
    {
      "cell_type": "code",
      "source": [
        "chisqt = pd.crosstab(df4.Month, df4.OFNS_DESC, margins=True)\n",
        "print(chisqt)"
      ],
      "metadata": {
        "colab": {
          "base_uri": "https://localhost:8080/"
        },
        "id": "hf6Exg8kRdr3",
        "outputId": "b53fca0e-fba5-4ea3-fd7c-8d113a20095d"
      },
      "execution_count": null,
      "outputs": [
        {
          "output_type": "stream",
          "name": "stdout",
          "text": [
            "OFNS_DESC  FELONY ASSAULT  GRAND LARCENY  ROBBERY    All\n",
            "Month                                                   \n",
            "01                   1335            565      721   2621\n",
            "02                   1348            621      759   2728\n",
            "03                   1519            751      837   3107\n",
            "04                   1547            658      795   3000\n",
            "05                   1648            714      845   3207\n",
            "06                   1728            726      882   3336\n",
            "07                   1695            705      815   3215\n",
            "08                   1729            750      817   3296\n",
            "09                   1641            942      839   3422\n",
            "All                 14190           6432     7310  27932\n"
          ]
        }
      ]
    },
    {
      "cell_type": "code",
      "source": [
        "# Need this below for chi sqaure"
      ],
      "metadata": {
        "id": "-nW1pAkwvZSz"
      },
      "execution_count": null,
      "outputs": []
    },
    {
      "cell_type": "code",
      "source": [
        "value = np.array([chisqt.iloc[0][0:5].values,chisqt.iloc[1][0:5].values])"
      ],
      "metadata": {
        "id": "YLG8dmnKR_ql"
      },
      "execution_count": null,
      "outputs": []
    },
    {
      "cell_type": "code",
      "source": [
        "#This below did not work. I was trying to create a new variable for cold, moderate, hot weather"
      ],
      "metadata": {
        "id": "e7kaJvEbVE_A"
      },
      "execution_count": null,
      "outputs": []
    },
    {
      "cell_type": "code",
      "source": [
        "def func(x):\n",
        "  if 'Month'=='01':\n",
        "    return 'Cold Weather'\n",
        "  elif 'Month'=='02':\n",
        "    return 'Cold Weather'\n",
        "  elif 'Month'=='03':\n",
        "    return 'Cold Weather'\n",
        "  elif 'Month'=='04':\n",
        "    return 'Moderate Weather'\n",
        "  elif 'Month'=='05':\n",
        "    return 'Moderate Weather'\n",
        "  elif 'Month'=='06':\n",
        "    return 'Moderate Weather'\n",
        "  elif 'Month'=='07':\n",
        "    return 'Hot Weather'\n",
        "  elif 'Month'=='08':\n",
        "    return 'Hot Weather'\n",
        "  elif 'Month'=='09':\n",
        "    return 'Hot Weather'\n",
        "  "
      ],
      "metadata": {
        "id": "DNcQoVwvIbP7"
      },
      "execution_count": null,
      "outputs": []
    },
    {
      "cell_type": "code",
      "source": [
        "#Below worked for creating categories"
      ],
      "metadata": {
        "id": "RyY6Wv4xvl-J"
      },
      "execution_count": null,
      "outputs": []
    },
    {
      "cell_type": "code",
      "source": [
        "weather_Month = {'01': 'Cold', '02':'Cold', '03': 'Cold', '04': 'Moderate','05': 'Moderate', '06': 'Moderate', '07': 'Hot','08': 'Hot','09': 'Hot'}"
      ],
      "metadata": {
        "id": "fMXLDSyHMZBN"
      },
      "execution_count": null,
      "outputs": []
    },
    {
      "cell_type": "code",
      "source": [
        "df5= df4.assign(Season= df4.Month.map(weather_Month))"
      ],
      "metadata": {
        "id": "dkntvk2tN3yh"
      },
      "execution_count": null,
      "outputs": []
    },
    {
      "cell_type": "code",
      "source": [
        "categorical_col= ['Month','AGE_GROUP','PERP_SEX','PERP_RACE','OFNS_DESC', 'ARREST_BORO', 'LAW_CAT_CD', 'Season']"
      ],
      "metadata": {
        "id": "HCgFCbLIIG4N"
      },
      "execution_count": null,
      "outputs": []
    },
    {
      "cell_type": "code",
      "source": [
        "#Use for Cross tab"
      ],
      "metadata": {
        "id": "m6o3Y-JDvqfR"
      },
      "execution_count": null,
      "outputs": []
    },
    {
      "cell_type": "code",
      "source": [
        "chisqt = pd.crosstab(df5.Season, df5.OFNS_DESC, margins=True)"
      ],
      "metadata": {
        "id": "VcCS6bE0IG1s"
      },
      "execution_count": null,
      "outputs": []
    },
    {
      "cell_type": "code",
      "source": [
        "#Contingency table for my chi sqaure test"
      ],
      "metadata": {
        "id": "tcWD_BS7vt1p"
      },
      "execution_count": null,
      "outputs": []
    },
    {
      "cell_type": "code",
      "source": [
        "print(chisqt)"
      ],
      "metadata": {
        "colab": {
          "base_uri": "https://localhost:8080/"
        },
        "id": "jB32qdPXIGy7",
        "outputId": "d9c9953a-1a2a-4754-9d44-21f163471768"
      },
      "execution_count": null,
      "outputs": [
        {
          "output_type": "stream",
          "name": "stdout",
          "text": [
            "OFNS_DESC  FELONY ASSAULT  GRAND LARCENY  ROBBERY    All\n",
            "Season                                                  \n",
            "Cold                 4202           1937     2317   8456\n",
            "Hot                  5065           2397     2471   9933\n",
            "Moderate             4923           2098     2522   9543\n",
            "All                 14190           6432     7310  27932\n"
          ]
        }
      ]
    },
    {
      "cell_type": "code",
      "source": [
        "Contingency_pct = pd.crosstab(df5['Season'], df5['OFNS_DESC'], normalize='columns')"
      ],
      "metadata": {
        "id": "WwupFdNOIGvz"
      },
      "execution_count": null,
      "outputs": []
    },
    {
      "cell_type": "code",
      "source": [
        "#Contingency table by rate"
      ],
      "metadata": {
        "id": "w803Fc-pvyiB"
      },
      "execution_count": null,
      "outputs": []
    },
    {
      "cell_type": "code",
      "source": [
        "data_crosstab = pd.crosstab(df5['Season'], df5['OFNS_DESC'], margins= False)"
      ],
      "metadata": {
        "id": "-Z9aW113SKwQ"
      },
      "execution_count": null,
      "outputs": []
    },
    {
      "cell_type": "code",
      "source": [
        "print(data_crosstab)"
      ],
      "metadata": {
        "colab": {
          "base_uri": "https://localhost:8080/"
        },
        "id": "OqCDtY-mSxuQ",
        "outputId": "7ae02942-2ee9-4899-da04-935bb8101672"
      },
      "execution_count": null,
      "outputs": [
        {
          "output_type": "stream",
          "name": "stdout",
          "text": [
            "OFNS_DESC  FELONY ASSAULT  GRAND LARCENY  ROBBERY\n",
            "Season                                           \n",
            "Cold                 4202           1937     2317\n",
            "Hot                  5065           2397     2471\n",
            "Moderate             4923           2098     2522\n"
          ]
        }
      ]
    },
    {
      "cell_type": "code",
      "source": [
        "#(no. of rows – 1) * (no. of columns – 1).\n",
        "#Hence, the degrees of freedom is (3-1) * (3-1) = 4, 9.488"
      ],
      "metadata": {
        "id": "_7gtXsnhTEpn"
      },
      "execution_count": null,
      "outputs": []
    },
    {
      "cell_type": "code",
      "source": [
        "stat, p, dof, expected = chi2_contingency(data_crosstab)"
      ],
      "metadata": {
        "id": "a8oBeX44TdxQ"
      },
      "execution_count": null,
      "outputs": []
    },
    {
      "cell_type": "code",
      "source": [
        "#P value is the significance. "
      ],
      "metadata": {
        "id": "ofK4c21rv_TZ"
      },
      "execution_count": null,
      "outputs": []
    },
    {
      "cell_type": "code",
      "source": [
        "p"
      ],
      "metadata": {
        "colab": {
          "base_uri": "https://localhost:8080/"
        },
        "id": "CMFG-1oxToNg",
        "outputId": "4963bc8c-e16c-4998-e0a4-7043de981d65"
      },
      "execution_count": null,
      "outputs": [
        {
          "output_type": "execute_result",
          "data": {
            "text/plain": [
              "6.104208808282351e-05"
            ]
          },
          "metadata": {},
          "execution_count": 74
        }
      ]
    },
    {
      "cell_type": "code",
      "source": [
        "#According to critical values of the Chi-sqaure distribution with degrees of freedom = \"9.488\", but our p value was 6.104. That means we accept the null hyothesis\n",
        "# Felony Crimes do not have a significant relationship with the Weather. "
      ],
      "metadata": {
        "id": "9lYdcWL_Uco5"
      },
      "execution_count": null,
      "outputs": []
    },
    {
      "cell_type": "code",
      "source": [
        "plt.figure(figsize =(15,9))\n",
        "sns.heatmap(data_crosstab, annot =True, cmap=\"YlGnBu\")"
      ],
      "metadata": {
        "colab": {
          "base_uri": "https://localhost:8080/",
          "height": 569
        },
        "id": "k2D5Lny_WgH4",
        "outputId": "eb61991f-e72d-4ed7-a835-b3a1093681f6"
      },
      "execution_count": null,
      "outputs": [
        {
          "output_type": "execute_result",
          "data": {
            "text/plain": [
              "<matplotlib.axes._subplots.AxesSubplot at 0x7f58d54eb9a0>"
            ]
          },
          "metadata": {},
          "execution_count": 84
        },
        {
          "output_type": "display_data",
          "data": {
            "text/plain": [
              "<Figure size 1080x648 with 2 Axes>"
            ],
            "image/png": "[encoded data removed]"
          },
          "metadata": {
            "needs_background": "light"
          }
        }
      ]
    }
  ]
}